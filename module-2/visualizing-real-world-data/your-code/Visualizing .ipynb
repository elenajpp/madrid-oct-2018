{
 "cells": [
  {
   "cell_type": "code",
   "execution_count": 10,
   "metadata": {},
   "outputs": [],
   "source": [
    "# -*- coding: utf-8 -*-\n",
    "\n",
    "# import libraries here\n",
    "import matplotlib.pyplot as plt\n",
    "import seaborn as sns\n",
    "import numpy as np\n",
    "import pandas as pd\n",
    "import pandas_profiling "
   ]
  },
  {
   "cell_type": "markdown",
   "metadata": {},
   "source": [
    "* Use a composed dataset from kaggle, join and cleanup the data (the requirements here is to open at least 2 files, it doesn’t matter if its csv or json)\n",
    "* At least 3 histograms on different aggregated data. Do an analysis on which is the optimal bin parameter (the one that maximizes clarity on specified insight). Keep an eye on the dataset you choose, it must have at least 3 numeric columns to operate.\n",
    "* Plot a scatter distribution of data for a joined column with any column you like\n",
    "* Create a combined scatterplot with a two series you choosed, it should contain the legend for each scatterplot\n",
    "* Create a plot for a category distribution (using seaborn violin plot o other kind of graph that fits better your data using catplot) https://seaborn.pydata.org/generated/seaborn.catplot.html\n",
    "* Do a comparision with 3x3 subplot matrix. Plots can be anything you liked about the dataset"
   ]
  },
  {
   "cell_type": "markdown",
   "metadata": {},
   "source": [
    "# Step1: Select the database "
   ]
  },
  {
   "cell_type": "markdown",
   "metadata": {},
   "source": [
    "Seleccionas una base de dato con multiples archivos, me he asegurado de que en ella haya varias tipos numericos para poder tratar con ellas a la hora de hacer histogramas, correlaciones, etc.\n",
    "\n",
    "La base de datos que he seleccionado trata con datos de accidentes de trafico en UK y informacion sobre los vehiculos involucrados \n",
    "\n",
    "- Importo la primera base de datos donde se muestran informacion acerca de los accidentes"
   ]
  },
  {
   "cell_type": "code",
   "execution_count": 11,
   "metadata": {},
   "outputs": [
    {
     "name": "stderr",
     "output_type": "stream",
     "text": [
      "/usr/local/Cellar/ipython/7.0.1/libexec/lib/python3.7/site-packages/IPython/core/interactiveshell.py:3018: DtypeWarning: Columns (19) have mixed types. Specify dtype option on import or set low_memory=False.\n",
      "  interactivity=interactivity, compiler=compiler, result=result)\n"
     ]
    },
    {
     "data": {
      "text/html": [
       "<div>\n",
       "<style scoped>\n",
       "    .dataframe tbody tr th:only-of-type {\n",
       "        vertical-align: middle;\n",
       "    }\n",
       "\n",
       "    .dataframe tbody tr th {\n",
       "        vertical-align: top;\n",
       "    }\n",
       "\n",
       "    .dataframe thead th {\n",
       "        text-align: right;\n",
       "    }\n",
       "</style>\n",
       "<table border=\"1\" class=\"dataframe\">\n",
       "  <thead>\n",
       "    <tr style=\"text-align: right;\">\n",
       "      <th></th>\n",
       "      <th>Accident_Index</th>\n",
       "      <th>1st_Road_Class</th>\n",
       "      <th>1st_Road_Number</th>\n",
       "      <th>2nd_Road_Class</th>\n",
       "      <th>2nd_Road_Number</th>\n",
       "      <th>Accident_Severity</th>\n",
       "      <th>Carriageway_Hazards</th>\n",
       "      <th>Date</th>\n",
       "      <th>Day_of_Week</th>\n",
       "      <th>Did_Police_Officer_Attend_Scene_of_Accident</th>\n",
       "      <th>...</th>\n",
       "      <th>Police_Force</th>\n",
       "      <th>Road_Surface_Conditions</th>\n",
       "      <th>Road_Type</th>\n",
       "      <th>Special_Conditions_at_Site</th>\n",
       "      <th>Speed_limit</th>\n",
       "      <th>Time</th>\n",
       "      <th>Urban_or_Rural_Area</th>\n",
       "      <th>Weather_Conditions</th>\n",
       "      <th>Year</th>\n",
       "      <th>InScotland</th>\n",
       "    </tr>\n",
       "  </thead>\n",
       "  <tbody>\n",
       "    <tr>\n",
       "      <th>0</th>\n",
       "      <td>200501BS00001</td>\n",
       "      <td>A</td>\n",
       "      <td>3218.0</td>\n",
       "      <td>NaN</td>\n",
       "      <td>0.0</td>\n",
       "      <td>Serious</td>\n",
       "      <td>None</td>\n",
       "      <td>2005-01-04</td>\n",
       "      <td>Tuesday</td>\n",
       "      <td>1.0</td>\n",
       "      <td>...</td>\n",
       "      <td>Metropolitan Police</td>\n",
       "      <td>Wet or damp</td>\n",
       "      <td>Single carriageway</td>\n",
       "      <td>None</td>\n",
       "      <td>30.0</td>\n",
       "      <td>17:42</td>\n",
       "      <td>Urban</td>\n",
       "      <td>Raining no high winds</td>\n",
       "      <td>2005</td>\n",
       "      <td>No</td>\n",
       "    </tr>\n",
       "    <tr>\n",
       "      <th>1</th>\n",
       "      <td>200501BS00002</td>\n",
       "      <td>B</td>\n",
       "      <td>450.0</td>\n",
       "      <td>C</td>\n",
       "      <td>0.0</td>\n",
       "      <td>Slight</td>\n",
       "      <td>None</td>\n",
       "      <td>2005-01-05</td>\n",
       "      <td>Wednesday</td>\n",
       "      <td>1.0</td>\n",
       "      <td>...</td>\n",
       "      <td>Metropolitan Police</td>\n",
       "      <td>Dry</td>\n",
       "      <td>Dual carriageway</td>\n",
       "      <td>None</td>\n",
       "      <td>30.0</td>\n",
       "      <td>17:36</td>\n",
       "      <td>Urban</td>\n",
       "      <td>Fine no high winds</td>\n",
       "      <td>2005</td>\n",
       "      <td>No</td>\n",
       "    </tr>\n",
       "    <tr>\n",
       "      <th>2</th>\n",
       "      <td>200501BS00003</td>\n",
       "      <td>C</td>\n",
       "      <td>0.0</td>\n",
       "      <td>NaN</td>\n",
       "      <td>0.0</td>\n",
       "      <td>Slight</td>\n",
       "      <td>None</td>\n",
       "      <td>2005-01-06</td>\n",
       "      <td>Thursday</td>\n",
       "      <td>1.0</td>\n",
       "      <td>...</td>\n",
       "      <td>Metropolitan Police</td>\n",
       "      <td>Dry</td>\n",
       "      <td>Single carriageway</td>\n",
       "      <td>None</td>\n",
       "      <td>30.0</td>\n",
       "      <td>00:15</td>\n",
       "      <td>Urban</td>\n",
       "      <td>Fine no high winds</td>\n",
       "      <td>2005</td>\n",
       "      <td>No</td>\n",
       "    </tr>\n",
       "    <tr>\n",
       "      <th>3</th>\n",
       "      <td>200501BS00004</td>\n",
       "      <td>A</td>\n",
       "      <td>3220.0</td>\n",
       "      <td>NaN</td>\n",
       "      <td>0.0</td>\n",
       "      <td>Slight</td>\n",
       "      <td>None</td>\n",
       "      <td>2005-01-07</td>\n",
       "      <td>Friday</td>\n",
       "      <td>1.0</td>\n",
       "      <td>...</td>\n",
       "      <td>Metropolitan Police</td>\n",
       "      <td>Dry</td>\n",
       "      <td>Single carriageway</td>\n",
       "      <td>None</td>\n",
       "      <td>30.0</td>\n",
       "      <td>10:35</td>\n",
       "      <td>Urban</td>\n",
       "      <td>Fine no high winds</td>\n",
       "      <td>2005</td>\n",
       "      <td>No</td>\n",
       "    </tr>\n",
       "    <tr>\n",
       "      <th>4</th>\n",
       "      <td>200501BS00005</td>\n",
       "      <td>Unclassified</td>\n",
       "      <td>0.0</td>\n",
       "      <td>NaN</td>\n",
       "      <td>0.0</td>\n",
       "      <td>Slight</td>\n",
       "      <td>None</td>\n",
       "      <td>2005-01-10</td>\n",
       "      <td>Monday</td>\n",
       "      <td>1.0</td>\n",
       "      <td>...</td>\n",
       "      <td>Metropolitan Police</td>\n",
       "      <td>Wet or damp</td>\n",
       "      <td>Single carriageway</td>\n",
       "      <td>None</td>\n",
       "      <td>30.0</td>\n",
       "      <td>21:13</td>\n",
       "      <td>Urban</td>\n",
       "      <td>Fine no high winds</td>\n",
       "      <td>2005</td>\n",
       "      <td>No</td>\n",
       "    </tr>\n",
       "  </tbody>\n",
       "</table>\n",
       "<p>5 rows × 34 columns</p>\n",
       "</div>"
      ],
      "text/plain": [
       "  Accident_Index 1st_Road_Class  1st_Road_Number 2nd_Road_Class  \\\n",
       "0  200501BS00001              A           3218.0            NaN   \n",
       "1  200501BS00002              B            450.0              C   \n",
       "2  200501BS00003              C              0.0            NaN   \n",
       "3  200501BS00004              A           3220.0            NaN   \n",
       "4  200501BS00005   Unclassified              0.0            NaN   \n",
       "\n",
       "   2nd_Road_Number Accident_Severity Carriageway_Hazards        Date  \\\n",
       "0              0.0           Serious                None  2005-01-04   \n",
       "1              0.0            Slight                None  2005-01-05   \n",
       "2              0.0            Slight                None  2005-01-06   \n",
       "3              0.0            Slight                None  2005-01-07   \n",
       "4              0.0            Slight                None  2005-01-10   \n",
       "\n",
       "  Day_of_Week  Did_Police_Officer_Attend_Scene_of_Accident    ...      \\\n",
       "0     Tuesday                                          1.0    ...       \n",
       "1   Wednesday                                          1.0    ...       \n",
       "2    Thursday                                          1.0    ...       \n",
       "3      Friday                                          1.0    ...       \n",
       "4      Monday                                          1.0    ...       \n",
       "\n",
       "          Police_Force Road_Surface_Conditions           Road_Type  \\\n",
       "0  Metropolitan Police             Wet or damp  Single carriageway   \n",
       "1  Metropolitan Police                     Dry    Dual carriageway   \n",
       "2  Metropolitan Police                     Dry  Single carriageway   \n",
       "3  Metropolitan Police                     Dry  Single carriageway   \n",
       "4  Metropolitan Police             Wet or damp  Single carriageway   \n",
       "\n",
       "  Special_Conditions_at_Site Speed_limit   Time  Urban_or_Rural_Area  \\\n",
       "0                       None        30.0  17:42                Urban   \n",
       "1                       None        30.0  17:36                Urban   \n",
       "2                       None        30.0  00:15                Urban   \n",
       "3                       None        30.0  10:35                Urban   \n",
       "4                       None        30.0  21:13                Urban   \n",
       "\n",
       "      Weather_Conditions  Year InScotland  \n",
       "0  Raining no high winds  2005         No  \n",
       "1     Fine no high winds  2005         No  \n",
       "2     Fine no high winds  2005         No  \n",
       "3     Fine no high winds  2005         No  \n",
       "4     Fine no high winds  2005         No  \n",
       "\n",
       "[5 rows x 34 columns]"
      ]
     },
     "execution_count": 11,
     "metadata": {},
     "output_type": "execute_result"
    }
   ],
   "source": [
    "df_acc = pd.read_csv('uk-accidents/Accident_Information.csv')\n",
    "df_acc.head()"
   ]
  },
  {
   "cell_type": "code",
   "execution_count": 68,
   "metadata": {},
   "outputs": [
    {
     "data": {
      "text/plain": [
       "1st_Road_Number                                     2\n",
       "2nd_Road_Class                                 789860\n",
       "2nd_Road_Number                                 17440\n",
       "Did_Police_Officer_Attend_Scene_of_Accident       278\n",
       "Latitude                                          145\n",
       "Location_Easting_OSGR                             145\n",
       "Location_Northing_OSGR                            145\n",
       "Longitude                                         146\n",
       "LSOA_of_Accident_Location                      137822\n",
       "Pedestrian_Crossing-Human_Control                 346\n",
       "Pedestrian_Crossing-Physical_Facilities           795\n",
       "Speed_limit                                        37\n",
       "Time                                              153\n",
       "InScotland                                         50\n",
       "dtype: int64"
      ]
     },
     "execution_count": 68,
     "metadata": {},
     "output_type": "execute_result"
    }
   ],
   "source": [
    "null_cols = df_acc.isnull().sum()\n",
    "null_cols[null_cols > 0]"
   ]
  },
  {
   "cell_type": "code",
   "execution_count": 3,
   "metadata": {},
   "outputs": [
    {
     "data": {
      "text/plain": [
       "Index(['Accident_Index', '1st_Road_Class', '1st_Road_Number', '2nd_Road_Class',\n",
       "       '2nd_Road_Number', 'Accident_Severity', 'Carriageway_Hazards', 'Date',\n",
       "       'Day_of_Week', 'Did_Police_Officer_Attend_Scene_of_Accident',\n",
       "       'Junction_Control', 'Junction_Detail', 'Latitude', 'Light_Conditions',\n",
       "       'Local_Authority_(District)', 'Local_Authority_(Highway)',\n",
       "       'Location_Easting_OSGR', 'Location_Northing_OSGR', 'Longitude',\n",
       "       'LSOA_of_Accident_Location', 'Number_of_Casualties',\n",
       "       'Number_of_Vehicles', 'Pedestrian_Crossing-Human_Control',\n",
       "       'Pedestrian_Crossing-Physical_Facilities', 'Police_Force',\n",
       "       'Road_Surface_Conditions', 'Road_Type', 'Special_Conditions_at_Site',\n",
       "       'Speed_limit', 'Time', 'Urban_or_Rural_Area', 'Weather_Conditions',\n",
       "       'Year', 'InScotland'],\n",
       "      dtype='object')"
      ]
     },
     "execution_count": 3,
     "metadata": {},
     "output_type": "execute_result"
    }
   ],
   "source": [
    "df_acc.columns"
   ]
  },
  {
   "cell_type": "code",
   "execution_count": 4,
   "metadata": {},
   "outputs": [
    {
     "data": {
      "text/plain": [
       "Accident_Index                                  object\n",
       "1st_Road_Class                                  object\n",
       "1st_Road_Number                                float64\n",
       "2nd_Road_Class                                  object\n",
       "2nd_Road_Number                                float64\n",
       "Accident_Severity                               object\n",
       "Carriageway_Hazards                             object\n",
       "Date                                            object\n",
       "Day_of_Week                                     object\n",
       "Did_Police_Officer_Attend_Scene_of_Accident    float64\n",
       "Junction_Control                                object\n",
       "Junction_Detail                                 object\n",
       "Latitude                                       float64\n",
       "Light_Conditions                                object\n",
       "Local_Authority_(District)                      object\n",
       "Local_Authority_(Highway)                       object\n",
       "Location_Easting_OSGR                          float64\n",
       "Location_Northing_OSGR                         float64\n",
       "Longitude                                      float64\n",
       "LSOA_of_Accident_Location                       object\n",
       "Number_of_Casualties                             int64\n",
       "Number_of_Vehicles                               int64\n",
       "Pedestrian_Crossing-Human_Control              float64\n",
       "Pedestrian_Crossing-Physical_Facilities        float64\n",
       "Police_Force                                    object\n",
       "Road_Surface_Conditions                         object\n",
       "Road_Type                                       object\n",
       "Special_Conditions_at_Site                      object\n",
       "Speed_limit                                    float64\n",
       "Time                                            object\n",
       "Urban_or_Rural_Area                             object\n",
       "Weather_Conditions                              object\n",
       "Year                                             int64\n",
       "InScotland                                      object\n",
       "dtype: object"
      ]
     },
     "execution_count": 4,
     "metadata": {},
     "output_type": "execute_result"
    }
   ],
   "source": [
    "df_acc.dtypes"
   ]
  },
  {
   "cell_type": "code",
   "execution_count": 5,
   "metadata": {},
   "outputs": [
    {
     "data": {
      "text/html": [
       "<div>\n",
       "<style scoped>\n",
       "    .dataframe tbody tr th:only-of-type {\n",
       "        vertical-align: middle;\n",
       "    }\n",
       "\n",
       "    .dataframe tbody tr th {\n",
       "        vertical-align: top;\n",
       "    }\n",
       "\n",
       "    .dataframe thead th {\n",
       "        text-align: right;\n",
       "    }\n",
       "</style>\n",
       "<table border=\"1\" class=\"dataframe\">\n",
       "  <thead>\n",
       "    <tr style=\"text-align: right;\">\n",
       "      <th></th>\n",
       "      <th>Accident_Index</th>\n",
       "      <th>Age_Band_of_Driver</th>\n",
       "      <th>Age_of_Vehicle</th>\n",
       "      <th>Driver_Home_Area_Type</th>\n",
       "      <th>Driver_IMD_Decile</th>\n",
       "      <th>Engine_Capacity_.CC.</th>\n",
       "      <th>Hit_Object_in_Carriageway</th>\n",
       "      <th>Hit_Object_off_Carriageway</th>\n",
       "      <th>Journey_Purpose_of_Driver</th>\n",
       "      <th>Junction_Location</th>\n",
       "      <th>...</th>\n",
       "      <th>Skidding_and_Overturning</th>\n",
       "      <th>Towing_and_Articulation</th>\n",
       "      <th>Vehicle_Leaving_Carriageway</th>\n",
       "      <th>Vehicle_Location.Restricted_Lane</th>\n",
       "      <th>Vehicle_Manoeuvre</th>\n",
       "      <th>Vehicle_Reference</th>\n",
       "      <th>Vehicle_Type</th>\n",
       "      <th>Was_Vehicle_Left_Hand_Drive</th>\n",
       "      <th>X1st_Point_of_Impact</th>\n",
       "      <th>Year</th>\n",
       "    </tr>\n",
       "  </thead>\n",
       "  <tbody>\n",
       "    <tr>\n",
       "      <th>0</th>\n",
       "      <td>200401BS00001</td>\n",
       "      <td>26 - 35</td>\n",
       "      <td>3.0</td>\n",
       "      <td>Urban area</td>\n",
       "      <td>4.0</td>\n",
       "      <td>1588.0</td>\n",
       "      <td>None</td>\n",
       "      <td>None</td>\n",
       "      <td>Data missing or out of range</td>\n",
       "      <td>Data missing or out of range</td>\n",
       "      <td>...</td>\n",
       "      <td>None</td>\n",
       "      <td>No tow/articulation</td>\n",
       "      <td>Did not leave carriageway</td>\n",
       "      <td>0.0</td>\n",
       "      <td>Going ahead other</td>\n",
       "      <td>2</td>\n",
       "      <td>109</td>\n",
       "      <td>Data missing or out of range</td>\n",
       "      <td>Front</td>\n",
       "      <td>2004</td>\n",
       "    </tr>\n",
       "    <tr>\n",
       "      <th>1</th>\n",
       "      <td>200401BS00002</td>\n",
       "      <td>26 - 35</td>\n",
       "      <td>NaN</td>\n",
       "      <td>Urban area</td>\n",
       "      <td>3.0</td>\n",
       "      <td>NaN</td>\n",
       "      <td>None</td>\n",
       "      <td>None</td>\n",
       "      <td>Data missing or out of range</td>\n",
       "      <td>Data missing or out of range</td>\n",
       "      <td>...</td>\n",
       "      <td>None</td>\n",
       "      <td>No tow/articulation</td>\n",
       "      <td>Did not leave carriageway</td>\n",
       "      <td>0.0</td>\n",
       "      <td>Going ahead other</td>\n",
       "      <td>1</td>\n",
       "      <td>109</td>\n",
       "      <td>Data missing or out of range</td>\n",
       "      <td>Front</td>\n",
       "      <td>2004</td>\n",
       "    </tr>\n",
       "    <tr>\n",
       "      <th>2</th>\n",
       "      <td>200401BS00003</td>\n",
       "      <td>26 - 35</td>\n",
       "      <td>4.0</td>\n",
       "      <td>Data missing or out of range</td>\n",
       "      <td>NaN</td>\n",
       "      <td>998.0</td>\n",
       "      <td>None</td>\n",
       "      <td>None</td>\n",
       "      <td>Data missing or out of range</td>\n",
       "      <td>Data missing or out of range</td>\n",
       "      <td>...</td>\n",
       "      <td>None</td>\n",
       "      <td>No tow/articulation</td>\n",
       "      <td>Did not leave carriageway</td>\n",
       "      <td>0.0</td>\n",
       "      <td>Turning right</td>\n",
       "      <td>1</td>\n",
       "      <td>109</td>\n",
       "      <td>Data missing or out of range</td>\n",
       "      <td>Front</td>\n",
       "      <td>2004</td>\n",
       "    </tr>\n",
       "    <tr>\n",
       "      <th>3</th>\n",
       "      <td>200401BS00003</td>\n",
       "      <td>66 - 75</td>\n",
       "      <td>NaN</td>\n",
       "      <td>Data missing or out of range</td>\n",
       "      <td>NaN</td>\n",
       "      <td>NaN</td>\n",
       "      <td>None</td>\n",
       "      <td>None</td>\n",
       "      <td>Data missing or out of range</td>\n",
       "      <td>Data missing or out of range</td>\n",
       "      <td>...</td>\n",
       "      <td>None</td>\n",
       "      <td>No tow/articulation</td>\n",
       "      <td>Did not leave carriageway</td>\n",
       "      <td>0.0</td>\n",
       "      <td>Going ahead other</td>\n",
       "      <td>2</td>\n",
       "      <td>109</td>\n",
       "      <td>Data missing or out of range</td>\n",
       "      <td>Front</td>\n",
       "      <td>2004</td>\n",
       "    </tr>\n",
       "    <tr>\n",
       "      <th>4</th>\n",
       "      <td>200401BS00004</td>\n",
       "      <td>26 - 35</td>\n",
       "      <td>1.0</td>\n",
       "      <td>Urban area</td>\n",
       "      <td>4.0</td>\n",
       "      <td>124.0</td>\n",
       "      <td>None</td>\n",
       "      <td>None</td>\n",
       "      <td>Data missing or out of range</td>\n",
       "      <td>Data missing or out of range</td>\n",
       "      <td>...</td>\n",
       "      <td>None</td>\n",
       "      <td>No tow/articulation</td>\n",
       "      <td>Did not leave carriageway</td>\n",
       "      <td>0.0</td>\n",
       "      <td>Going ahead other</td>\n",
       "      <td>1</td>\n",
       "      <td>Motorcycle 125cc and under</td>\n",
       "      <td>Data missing or out of range</td>\n",
       "      <td>Front</td>\n",
       "      <td>2004</td>\n",
       "    </tr>\n",
       "    <tr>\n",
       "      <th>5</th>\n",
       "      <td>200401BS00004</td>\n",
       "      <td>36 - 45</td>\n",
       "      <td>10.0</td>\n",
       "      <td>Data missing or out of range</td>\n",
       "      <td>NaN</td>\n",
       "      <td>1781.0</td>\n",
       "      <td>None</td>\n",
       "      <td>None</td>\n",
       "      <td>Data missing or out of range</td>\n",
       "      <td>Data missing or out of range</td>\n",
       "      <td>...</td>\n",
       "      <td>None</td>\n",
       "      <td>No tow/articulation</td>\n",
       "      <td>Did not leave carriageway</td>\n",
       "      <td>0.0</td>\n",
       "      <td>U-turn</td>\n",
       "      <td>2</td>\n",
       "      <td>109</td>\n",
       "      <td>Data missing or out of range</td>\n",
       "      <td>Offside</td>\n",
       "      <td>2004</td>\n",
       "    </tr>\n",
       "    <tr>\n",
       "      <th>6</th>\n",
       "      <td>200401BS00009</td>\n",
       "      <td>26 - 35</td>\n",
       "      <td>NaN</td>\n",
       "      <td>Urban area</td>\n",
       "      <td>4.0</td>\n",
       "      <td>NaN</td>\n",
       "      <td>None</td>\n",
       "      <td>None</td>\n",
       "      <td>Data missing or out of range</td>\n",
       "      <td>Data missing or out of range</td>\n",
       "      <td>...</td>\n",
       "      <td>Skidded</td>\n",
       "      <td>No tow/articulation</td>\n",
       "      <td>Did not leave carriageway</td>\n",
       "      <td>0.0</td>\n",
       "      <td>Going ahead other</td>\n",
       "      <td>1</td>\n",
       "      <td>Motorcycle 125cc and under</td>\n",
       "      <td>Data missing or out of range</td>\n",
       "      <td>Did not impact</td>\n",
       "      <td>2004</td>\n",
       "    </tr>\n",
       "    <tr>\n",
       "      <th>7</th>\n",
       "      <td>200401BS00010</td>\n",
       "      <td>36 - 45</td>\n",
       "      <td>NaN</td>\n",
       "      <td>Urban area</td>\n",
       "      <td>8.0</td>\n",
       "      <td>NaN</td>\n",
       "      <td>None</td>\n",
       "      <td>None</td>\n",
       "      <td>Data missing or out of range</td>\n",
       "      <td>Data missing or out of range</td>\n",
       "      <td>...</td>\n",
       "      <td>None</td>\n",
       "      <td>No tow/articulation</td>\n",
       "      <td>Did not leave carriageway</td>\n",
       "      <td>0.0</td>\n",
       "      <td>Turning right</td>\n",
       "      <td>1</td>\n",
       "      <td>109</td>\n",
       "      <td>Data missing or out of range</td>\n",
       "      <td>Front</td>\n",
       "      <td>2004</td>\n",
       "    </tr>\n",
       "    <tr>\n",
       "      <th>8</th>\n",
       "      <td>200401BS00012</td>\n",
       "      <td>46 - 55</td>\n",
       "      <td>3.0</td>\n",
       "      <td>Data missing or out of range</td>\n",
       "      <td>NaN</td>\n",
       "      <td>2685.0</td>\n",
       "      <td>None</td>\n",
       "      <td>None</td>\n",
       "      <td>Data missing or out of range</td>\n",
       "      <td>Data missing or out of range</td>\n",
       "      <td>...</td>\n",
       "      <td>None</td>\n",
       "      <td>No tow/articulation</td>\n",
       "      <td>Did not leave carriageway</td>\n",
       "      <td>0.0</td>\n",
       "      <td>Slowing or stopping</td>\n",
       "      <td>1</td>\n",
       "      <td>109</td>\n",
       "      <td>Data missing or out of range</td>\n",
       "      <td>Back</td>\n",
       "      <td>2004</td>\n",
       "    </tr>\n",
       "    <tr>\n",
       "      <th>9</th>\n",
       "      <td>200401BS00013</td>\n",
       "      <td>26 - 35</td>\n",
       "      <td>4.0</td>\n",
       "      <td>Urban area</td>\n",
       "      <td>6.0</td>\n",
       "      <td>2300.0</td>\n",
       "      <td>None</td>\n",
       "      <td>None</td>\n",
       "      <td>Data missing or out of range</td>\n",
       "      <td>Data missing or out of range</td>\n",
       "      <td>...</td>\n",
       "      <td>None</td>\n",
       "      <td>No tow/articulation</td>\n",
       "      <td>Did not leave carriageway</td>\n",
       "      <td>0.0</td>\n",
       "      <td>Turning right</td>\n",
       "      <td>1</td>\n",
       "      <td>109</td>\n",
       "      <td>Data missing or out of range</td>\n",
       "      <td>Offside</td>\n",
       "      <td>2004</td>\n",
       "    </tr>\n",
       "  </tbody>\n",
       "</table>\n",
       "<p>10 rows × 24 columns</p>\n",
       "</div>"
      ],
      "text/plain": [
       "  Accident_Index Age_Band_of_Driver  Age_of_Vehicle  \\\n",
       "0  200401BS00001            26 - 35             3.0   \n",
       "1  200401BS00002            26 - 35             NaN   \n",
       "2  200401BS00003            26 - 35             4.0   \n",
       "3  200401BS00003            66 - 75             NaN   \n",
       "4  200401BS00004            26 - 35             1.0   \n",
       "5  200401BS00004            36 - 45            10.0   \n",
       "6  200401BS00009            26 - 35             NaN   \n",
       "7  200401BS00010            36 - 45             NaN   \n",
       "8  200401BS00012            46 - 55             3.0   \n",
       "9  200401BS00013            26 - 35             4.0   \n",
       "\n",
       "          Driver_Home_Area_Type  Driver_IMD_Decile  Engine_Capacity_.CC.  \\\n",
       "0                    Urban area                4.0                1588.0   \n",
       "1                    Urban area                3.0                   NaN   \n",
       "2  Data missing or out of range                NaN                 998.0   \n",
       "3  Data missing or out of range                NaN                   NaN   \n",
       "4                    Urban area                4.0                 124.0   \n",
       "5  Data missing or out of range                NaN                1781.0   \n",
       "6                    Urban area                4.0                   NaN   \n",
       "7                    Urban area                8.0                   NaN   \n",
       "8  Data missing or out of range                NaN                2685.0   \n",
       "9                    Urban area                6.0                2300.0   \n",
       "\n",
       "  Hit_Object_in_Carriageway Hit_Object_off_Carriageway  \\\n",
       "0                      None                       None   \n",
       "1                      None                       None   \n",
       "2                      None                       None   \n",
       "3                      None                       None   \n",
       "4                      None                       None   \n",
       "5                      None                       None   \n",
       "6                      None                       None   \n",
       "7                      None                       None   \n",
       "8                      None                       None   \n",
       "9                      None                       None   \n",
       "\n",
       "      Journey_Purpose_of_Driver             Junction_Location  ...   \\\n",
       "0  Data missing or out of range  Data missing or out of range  ...    \n",
       "1  Data missing or out of range  Data missing or out of range  ...    \n",
       "2  Data missing or out of range  Data missing or out of range  ...    \n",
       "3  Data missing or out of range  Data missing or out of range  ...    \n",
       "4  Data missing or out of range  Data missing or out of range  ...    \n",
       "5  Data missing or out of range  Data missing or out of range  ...    \n",
       "6  Data missing or out of range  Data missing or out of range  ...    \n",
       "7  Data missing or out of range  Data missing or out of range  ...    \n",
       "8  Data missing or out of range  Data missing or out of range  ...    \n",
       "9  Data missing or out of range  Data missing or out of range  ...    \n",
       "\n",
       "  Skidding_and_Overturning Towing_and_Articulation  \\\n",
       "0                     None     No tow/articulation   \n",
       "1                     None     No tow/articulation   \n",
       "2                     None     No tow/articulation   \n",
       "3                     None     No tow/articulation   \n",
       "4                     None     No tow/articulation   \n",
       "5                     None     No tow/articulation   \n",
       "6                  Skidded     No tow/articulation   \n",
       "7                     None     No tow/articulation   \n",
       "8                     None     No tow/articulation   \n",
       "9                     None     No tow/articulation   \n",
       "\n",
       "  Vehicle_Leaving_Carriageway Vehicle_Location.Restricted_Lane  \\\n",
       "0   Did not leave carriageway                              0.0   \n",
       "1   Did not leave carriageway                              0.0   \n",
       "2   Did not leave carriageway                              0.0   \n",
       "3   Did not leave carriageway                              0.0   \n",
       "4   Did not leave carriageway                              0.0   \n",
       "5   Did not leave carriageway                              0.0   \n",
       "6   Did not leave carriageway                              0.0   \n",
       "7   Did not leave carriageway                              0.0   \n",
       "8   Did not leave carriageway                              0.0   \n",
       "9   Did not leave carriageway                              0.0   \n",
       "\n",
       "     Vehicle_Manoeuvre Vehicle_Reference                Vehicle_Type  \\\n",
       "0    Going ahead other                 2                         109   \n",
       "1    Going ahead other                 1                         109   \n",
       "2        Turning right                 1                         109   \n",
       "3    Going ahead other                 2                         109   \n",
       "4    Going ahead other                 1  Motorcycle 125cc and under   \n",
       "5               U-turn                 2                         109   \n",
       "6    Going ahead other                 1  Motorcycle 125cc and under   \n",
       "7        Turning right                 1                         109   \n",
       "8  Slowing or stopping                 1                         109   \n",
       "9        Turning right                 1                         109   \n",
       "\n",
       "    Was_Vehicle_Left_Hand_Drive X1st_Point_of_Impact  Year  \n",
       "0  Data missing or out of range                Front  2004  \n",
       "1  Data missing or out of range                Front  2004  \n",
       "2  Data missing or out of range                Front  2004  \n",
       "3  Data missing or out of range                Front  2004  \n",
       "4  Data missing or out of range                Front  2004  \n",
       "5  Data missing or out of range              Offside  2004  \n",
       "6  Data missing or out of range       Did not impact  2004  \n",
       "7  Data missing or out of range                Front  2004  \n",
       "8  Data missing or out of range                 Back  2004  \n",
       "9  Data missing or out of range              Offside  2004  \n",
       "\n",
       "[10 rows x 24 columns]"
      ]
     },
     "execution_count": 5,
     "metadata": {},
     "output_type": "execute_result"
    }
   ],
   "source": [
    "df_v = pd.read_csv('uk-accidents/Vehicle_Information.csv', encoding=\"ISO-8859-1\")\n",
    "df_v.head(10)"
   ]
  },
  {
   "cell_type": "code",
   "execution_count": 69,
   "metadata": {},
   "outputs": [
    {
     "data": {
      "text/plain": [
       "Age_of_Vehicle                      358149\n",
       "Driver_IMD_Decile                   734812\n",
       "Engine_Capacity_.CC.                265861\n",
       "make                                110845\n",
       "model                               325331\n",
       "Propulsion_Code                     245843\n",
       "Vehicle_Location.Restricted_Lane      1317\n",
       "dtype: int64"
      ]
     },
     "execution_count": 69,
     "metadata": {},
     "output_type": "execute_result"
    }
   ],
   "source": [
    "null_cols = df_v.isnull().sum()\n",
    "null_cols[null_cols > 0]"
   ]
  },
  {
   "cell_type": "code",
   "execution_count": 6,
   "metadata": {},
   "outputs": [
    {
     "data": {
      "text/plain": [
       "Accident_Index                       object\n",
       "Age_Band_of_Driver                   object\n",
       "Age_of_Vehicle                      float64\n",
       "Driver_Home_Area_Type                object\n",
       "Driver_IMD_Decile                   float64\n",
       "Engine_Capacity_.CC.                float64\n",
       "Hit_Object_in_Carriageway            object\n",
       "Hit_Object_off_Carriageway           object\n",
       "Journey_Purpose_of_Driver            object\n",
       "Junction_Location                    object\n",
       "make                                 object\n",
       "model                                object\n",
       "Propulsion_Code                      object\n",
       "Sex_of_Driver                        object\n",
       "Skidding_and_Overturning             object\n",
       "Towing_and_Articulation              object\n",
       "Vehicle_Leaving_Carriageway          object\n",
       "Vehicle_Location.Restricted_Lane    float64\n",
       "Vehicle_Manoeuvre                    object\n",
       "Vehicle_Reference                     int64\n",
       "Vehicle_Type                         object\n",
       "Was_Vehicle_Left_Hand_Drive          object\n",
       "X1st_Point_of_Impact                 object\n",
       "Year                                  int64\n",
       "dtype: object"
      ]
     },
     "execution_count": 6,
     "metadata": {},
     "output_type": "execute_result"
    }
   ],
   "source": [
    "df_v.dtypes"
   ]
  },
  {
   "cell_type": "markdown",
   "metadata": {},
   "source": [
    "# Step2: Data cleaning \n",
    "\n",
    "Utilizo unicamente las columnas que necesito de cada df "
   ]
  },
  {
   "cell_type": "code",
   "execution_count": 70,
   "metadata": {},
   "outputs": [
    {
     "data": {
      "text/html": [
       "<div>\n",
       "<style scoped>\n",
       "    .dataframe tbody tr th:only-of-type {\n",
       "        vertical-align: middle;\n",
       "    }\n",
       "\n",
       "    .dataframe tbody tr th {\n",
       "        vertical-align: top;\n",
       "    }\n",
       "\n",
       "    .dataframe thead th {\n",
       "        text-align: right;\n",
       "    }\n",
       "</style>\n",
       "<table border=\"1\" class=\"dataframe\">\n",
       "  <thead>\n",
       "    <tr style=\"text-align: right;\">\n",
       "      <th></th>\n",
       "      <th>Accident_Index</th>\n",
       "      <th>Number_of_Casualties</th>\n",
       "      <th>Number_of_Vehicles</th>\n",
       "      <th>Speed_limit</th>\n",
       "      <th>Year</th>\n",
       "    </tr>\n",
       "  </thead>\n",
       "  <tbody>\n",
       "    <tr>\n",
       "      <th>0</th>\n",
       "      <td>200501BS00001</td>\n",
       "      <td>1</td>\n",
       "      <td>1</td>\n",
       "      <td>30.0</td>\n",
       "      <td>2005</td>\n",
       "    </tr>\n",
       "    <tr>\n",
       "      <th>1</th>\n",
       "      <td>200501BS00002</td>\n",
       "      <td>1</td>\n",
       "      <td>1</td>\n",
       "      <td>30.0</td>\n",
       "      <td>2005</td>\n",
       "    </tr>\n",
       "    <tr>\n",
       "      <th>2</th>\n",
       "      <td>200501BS00003</td>\n",
       "      <td>1</td>\n",
       "      <td>2</td>\n",
       "      <td>30.0</td>\n",
       "      <td>2005</td>\n",
       "    </tr>\n",
       "    <tr>\n",
       "      <th>3</th>\n",
       "      <td>200501BS00004</td>\n",
       "      <td>1</td>\n",
       "      <td>1</td>\n",
       "      <td>30.0</td>\n",
       "      <td>2005</td>\n",
       "    </tr>\n",
       "    <tr>\n",
       "      <th>4</th>\n",
       "      <td>200501BS00005</td>\n",
       "      <td>1</td>\n",
       "      <td>1</td>\n",
       "      <td>30.0</td>\n",
       "      <td>2005</td>\n",
       "    </tr>\n",
       "  </tbody>\n",
       "</table>\n",
       "</div>"
      ],
      "text/plain": [
       "  Accident_Index  Number_of_Casualties  Number_of_Vehicles  Speed_limit  Year\n",
       "0  200501BS00001                     1                   1         30.0  2005\n",
       "1  200501BS00002                     1                   1         30.0  2005\n",
       "2  200501BS00003                     1                   2         30.0  2005\n",
       "3  200501BS00004                     1                   1         30.0  2005\n",
       "4  200501BS00005                     1                   1         30.0  2005"
      ]
     },
     "execution_count": 70,
     "metadata": {},
     "output_type": "execute_result"
    }
   ],
   "source": [
    "accidents = df_acc[['Accident_Index','Number_of_Casualties','Number_of_Vehicles','Speed_limit','Year']]\n",
    "accidents.head()\n"
   ]
  },
  {
   "cell_type": "code",
   "execution_count": 71,
   "metadata": {},
   "outputs": [
    {
     "data": {
      "text/plain": [
       "Speed_limit    37\n",
       "dtype: int64"
      ]
     },
     "execution_count": 71,
     "metadata": {},
     "output_type": "execute_result"
    }
   ],
   "source": [
    "null_cols = accidents.isnull().sum()\n",
    "null_cols[null_cols > 0]"
   ]
  },
  {
   "cell_type": "code",
   "execution_count": 65,
   "metadata": {},
   "outputs": [
    {
     "data": {
      "text/html": [
       "<div>\n",
       "<style scoped>\n",
       "    .dataframe tbody tr th:only-of-type {\n",
       "        vertical-align: middle;\n",
       "    }\n",
       "\n",
       "    .dataframe tbody tr th {\n",
       "        vertical-align: top;\n",
       "    }\n",
       "\n",
       "    .dataframe thead th {\n",
       "        text-align: right;\n",
       "    }\n",
       "</style>\n",
       "<table border=\"1\" class=\"dataframe\">\n",
       "  <thead>\n",
       "    <tr style=\"text-align: right;\">\n",
       "      <th></th>\n",
       "      <th>Accident_Index</th>\n",
       "      <th>Age_of_Vehicle</th>\n",
       "      <th>Engine_Capacity_.CC.</th>\n",
       "    </tr>\n",
       "  </thead>\n",
       "  <tbody>\n",
       "    <tr>\n",
       "      <th>0</th>\n",
       "      <td>200401BS00001</td>\n",
       "      <td>3.0</td>\n",
       "      <td>1588.0</td>\n",
       "    </tr>\n",
       "    <tr>\n",
       "      <th>1</th>\n",
       "      <td>200401BS00002</td>\n",
       "      <td>NaN</td>\n",
       "      <td>NaN</td>\n",
       "    </tr>\n",
       "    <tr>\n",
       "      <th>2</th>\n",
       "      <td>200401BS00003</td>\n",
       "      <td>4.0</td>\n",
       "      <td>998.0</td>\n",
       "    </tr>\n",
       "    <tr>\n",
       "      <th>3</th>\n",
       "      <td>200401BS00003</td>\n",
       "      <td>NaN</td>\n",
       "      <td>NaN</td>\n",
       "    </tr>\n",
       "    <tr>\n",
       "      <th>4</th>\n",
       "      <td>200401BS00004</td>\n",
       "      <td>1.0</td>\n",
       "      <td>124.0</td>\n",
       "    </tr>\n",
       "    <tr>\n",
       "      <th>5</th>\n",
       "      <td>200401BS00004</td>\n",
       "      <td>10.0</td>\n",
       "      <td>1781.0</td>\n",
       "    </tr>\n",
       "    <tr>\n",
       "      <th>6</th>\n",
       "      <td>200401BS00009</td>\n",
       "      <td>NaN</td>\n",
       "      <td>NaN</td>\n",
       "    </tr>\n",
       "    <tr>\n",
       "      <th>7</th>\n",
       "      <td>200401BS00010</td>\n",
       "      <td>NaN</td>\n",
       "      <td>NaN</td>\n",
       "    </tr>\n",
       "    <tr>\n",
       "      <th>8</th>\n",
       "      <td>200401BS00012</td>\n",
       "      <td>3.0</td>\n",
       "      <td>2685.0</td>\n",
       "    </tr>\n",
       "    <tr>\n",
       "      <th>9</th>\n",
       "      <td>200401BS00013</td>\n",
       "      <td>4.0</td>\n",
       "      <td>2300.0</td>\n",
       "    </tr>\n",
       "  </tbody>\n",
       "</table>\n",
       "</div>"
      ],
      "text/plain": [
       "  Accident_Index  Age_of_Vehicle  Engine_Capacity_.CC.\n",
       "0  200401BS00001             3.0                1588.0\n",
       "1  200401BS00002             NaN                   NaN\n",
       "2  200401BS00003             4.0                 998.0\n",
       "3  200401BS00003             NaN                   NaN\n",
       "4  200401BS00004             1.0                 124.0\n",
       "5  200401BS00004            10.0                1781.0\n",
       "6  200401BS00009             NaN                   NaN\n",
       "7  200401BS00010             NaN                   NaN\n",
       "8  200401BS00012             3.0                2685.0\n",
       "9  200401BS00013             4.0                2300.0"
      ]
     },
     "metadata": {},
     "output_type": "display_data"
    },
    {
     "name": "stdout",
     "output_type": "stream",
     "text": [
      "2177205\n"
     ]
    }
   ],
   "source": [
    "vehicles = df_v[['Accident_Index','Age_of_Vehicle','Engine_Capacity_.CC.']]\n",
    "display(vehicles.head(10))\n",
    "print(len(vehicles))"
   ]
  },
  {
   "cell_type": "code",
   "execution_count": 72,
   "metadata": {},
   "outputs": [
    {
     "data": {
      "text/plain": [
       "Age_of_Vehicle          358149\n",
       "Engine_Capacity_.CC.    265861\n",
       "dtype: int64"
      ]
     },
     "execution_count": 72,
     "metadata": {},
     "output_type": "execute_result"
    }
   ],
   "source": [
    "null_cols = vehicles.isnull().sum()\n",
    "null_cols[null_cols > 0]"
   ]
  },
  {
   "cell_type": "code",
   "execution_count": 66,
   "metadata": {},
   "outputs": [],
   "source": [
    "#Drop missing because I have a lot of records"
   ]
  },
  {
   "cell_type": "markdown",
   "metadata": {},
   "source": [
    "# Step 3: Histograma\n",
    "\n",
    "Creamos diferentes histogramas con diferentes tamaños de bins, y de esta manera podemos concluir que tamaño es el idonio para interpretarlos\n",
    "\n"
   ]
  },
  {
   "cell_type": "code",
   "execution_count": 11,
   "metadata": {},
   "outputs": [
    {
     "name": "stdout",
     "output_type": "stream",
     "text": [
      "1\n",
      "67\n",
      "1.833212154339964\n"
     ]
    },
    {
     "data": {
      "image/png": "[encoded data removed]",
      "text/plain": [
       "<Figure size 432x288 with 1 Axes>"
      ]
     },
     "metadata": {
      "needs_background": "light"
     },
     "output_type": "display_data"
    }
   ],
   "source": [
    "accidents['Number_of_Vehicles'].hist()\n",
    "print(accidents['Number_of_Vehicles'].min())\n",
    "print(accidents['Number_of_Vehicles'].max())\n",
    "print(accidents['Number_of_Vehicles'].mean())"
   ]
  },
  {
   "cell_type": "code",
   "execution_count": 12,
   "metadata": {},
   "outputs": [
    {
     "data": {
      "text/plain": [
       "{'whiskers': [<matplotlib.lines.Line2D at 0x1114ada90>,\n",
       "  <matplotlib.lines.Line2D at 0x1114adba8>],\n",
       " 'caps': [<matplotlib.lines.Line2D at 0x1114ad828>,\n",
       "  <matplotlib.lines.Line2D at 0x1114ad3c8>],\n",
       " 'boxes': [<matplotlib.lines.Line2D at 0x1114ade48>],\n",
       " 'medians': [<matplotlib.lines.Line2D at 0x1114b38d0>],\n",
       " 'fliers': [<matplotlib.lines.Line2D at 0x1114b3da0>],\n",
       " 'means': []}"
      ]
     },
     "execution_count": 12,
     "metadata": {},
     "output_type": "execute_result"
    },
    {
     "data": {
      "image/png": "[encoded data removed]",
      "text/plain": [
       "<Figure size 432x288 with 1 Axes>"
      ]
     },
     "metadata": {
      "needs_background": "light"
     },
     "output_type": "display_data"
    }
   ],
   "source": [
    "plt.boxplot(accidents['Number_of_Vehicles'])"
   ]
  },
  {
   "cell_type": "markdown",
   "metadata": {},
   "source": [
    "En este boxplot, tras haber filtrado el numero de vehiculos involucrados en el accidente, podemos observar que la media se encuentra entre 1 y 2, con la mediana en 2.00"
   ]
  },
  {
   "cell_type": "markdown",
   "metadata": {},
   "source": [
    "## Subsetting de dataframes"
   ]
  },
  {
   "cell_type": "code",
   "execution_count": 53,
   "metadata": {},
   "outputs": [
    {
     "name": "stdout",
     "output_type": "stream",
     "text": [
      "<class 'pandas.core.frame.DataFrame'>\n",
      "Int64Index: 1873507 entries, 0 to 1917273\n",
      "Data columns (total 5 columns):\n",
      "Accident_Index          object\n",
      "Number_of_Casualties    int64\n",
      "Number_of_Vehicles      int64\n",
      "Speed_limit             float64\n",
      "Year                    int64\n",
      "dtypes: float64(1), int64(3), object(1)\n",
      "memory usage: 85.8+ MB\n",
      "None\n"
     ]
    },
    {
     "data": {
      "text/html": [
       "<div>\n",
       "<style scoped>\n",
       "    .dataframe tbody tr th:only-of-type {\n",
       "        vertical-align: middle;\n",
       "    }\n",
       "\n",
       "    .dataframe tbody tr th {\n",
       "        vertical-align: top;\n",
       "    }\n",
       "\n",
       "    .dataframe thead th {\n",
       "        text-align: right;\n",
       "    }\n",
       "</style>\n",
       "<table border=\"1\" class=\"dataframe\">\n",
       "  <thead>\n",
       "    <tr style=\"text-align: right;\">\n",
       "      <th></th>\n",
       "      <th>Accident_Index</th>\n",
       "      <th>Number_of_Casualties</th>\n",
       "      <th>Number_of_Vehicles</th>\n",
       "      <th>Speed_limit</th>\n",
       "      <th>Year</th>\n",
       "    </tr>\n",
       "  </thead>\n",
       "  <tbody>\n",
       "    <tr>\n",
       "      <th>0</th>\n",
       "      <td>200501BS00001</td>\n",
       "      <td>1</td>\n",
       "      <td>1</td>\n",
       "      <td>30.0</td>\n",
       "      <td>2005</td>\n",
       "    </tr>\n",
       "    <tr>\n",
       "      <th>1</th>\n",
       "      <td>200501BS00002</td>\n",
       "      <td>1</td>\n",
       "      <td>1</td>\n",
       "      <td>30.0</td>\n",
       "      <td>2005</td>\n",
       "    </tr>\n",
       "    <tr>\n",
       "      <th>2</th>\n",
       "      <td>200501BS00003</td>\n",
       "      <td>1</td>\n",
       "      <td>2</td>\n",
       "      <td>30.0</td>\n",
       "      <td>2005</td>\n",
       "    </tr>\n",
       "    <tr>\n",
       "      <th>3</th>\n",
       "      <td>200501BS00004</td>\n",
       "      <td>1</td>\n",
       "      <td>1</td>\n",
       "      <td>30.0</td>\n",
       "      <td>2005</td>\n",
       "    </tr>\n",
       "    <tr>\n",
       "      <th>4</th>\n",
       "      <td>200501BS00005</td>\n",
       "      <td>1</td>\n",
       "      <td>1</td>\n",
       "      <td>30.0</td>\n",
       "      <td>2005</td>\n",
       "    </tr>\n",
       "  </tbody>\n",
       "</table>\n",
       "</div>"
      ],
      "text/plain": [
       "  Accident_Index  Number_of_Casualties  Number_of_Vehicles  Speed_limit  Year\n",
       "0  200501BS00001                     1                   1         30.0  2005\n",
       "1  200501BS00002                     1                   1         30.0  2005\n",
       "2  200501BS00003                     1                   2         30.0  2005\n",
       "3  200501BS00004                     1                   1         30.0  2005\n",
       "4  200501BS00005                     1                   1         30.0  2005"
      ]
     },
     "metadata": {},
     "output_type": "display_data"
    }
   ],
   "source": [
    "#Subset selection for accidents with less than 4 vehicles involved\n",
    "filtered_accidents = accidents[(accidents['Number_of_Vehicles'] <4)]\n",
    "#accidents[['Number_of_Vehicles']<=10].value_counts()\n",
    "print(filtered_accidents.info())\n",
    "display(filtered_accidents.head())"
   ]
  },
  {
   "cell_type": "code",
   "execution_count": 54,
   "metadata": {},
   "outputs": [
    {
     "data": {
      "text/plain": [
       "<matplotlib.axes._subplots.AxesSubplot at 0x1502f60f0>"
      ]
     },
     "execution_count": 54,
     "metadata": {},
     "output_type": "execute_result"
    },
    {
     "data": {
      "image/png": "[encoded data removed]",
      "text/plain": [
       "<Figure size 432x288 with 1 Axes>"
      ]
     },
     "metadata": {
      "needs_background": "light"
     },
     "output_type": "display_data"
    }
   ],
   "source": [
    "filtered_accidents['Number_of_Vehicles'].hist()"
   ]
  },
  {
   "cell_type": "code",
   "execution_count": 74,
   "metadata": {},
   "outputs": [
    {
     "data": {
      "text/plain": [
       "<matplotlib.axes._subplots.AxesSubplot at 0x140450f98>"
      ]
     },
     "execution_count": 74,
     "metadata": {},
     "output_type": "execute_result"
    },
    {
     "data": {
      "image/png": "[encoded data removed]",
      "text/plain": [
       "<Figure size 864x432 with 3 Axes>"
      ]
     },
     "metadata": {
      "needs_background": "light"
     },
     "output_type": "display_data"
    }
   ],
   "source": [
    "fig,axes= plt.subplots(1,3,figsize=(12,6))\n",
    "sns.distplot(filtered_accidents['Number_of_Vehicles'], bins=5, kde=True,ax=axes[0])\n",
    "sns.distplot(filtered_accidents['Number_of_Vehicles'], bins=10, kde=True,ax=axes[1])\n",
    "sns.distplot(filtered_accidents['Number_of_Vehicles'], bins=15, kde=True,ax=axes[2])\n"
   ]
  },
  {
   "cell_type": "markdown",
   "metadata": {},
   "source": [
    "Cuanto mayor sea el numero de bins mas datos habra acumulador por lo que mas informacion habra y sera mas objtiva. Aun que a veces puede resultar mas dificiles de interpetrar los datos, como ocurre en este caso donde el hecho de tener un bins=100 la cual no muestra claramente la grafica."
   ]
  },
  {
   "cell_type": "code",
   "execution_count": 90,
   "metadata": {},
   "outputs": [
    {
     "data": {
      "text/plain": [
       "{'whiskers': [<matplotlib.lines.Line2D at 0x146c27860>,\n",
       "  <matplotlib.lines.Line2D at 0x146c27ba8>],\n",
       " 'caps': [<matplotlib.lines.Line2D at 0x146c27ef0>,\n",
       "  <matplotlib.lines.Line2D at 0x146c27fd0>],\n",
       " 'boxes': [<matplotlib.lines.Line2D at 0x146c27470>],\n",
       " 'medians': [<matplotlib.lines.Line2D at 0x146c315c0>],\n",
       " 'fliers': [<matplotlib.lines.Line2D at 0x146c31c50>],\n",
       " 'means': [<matplotlib.lines.Line2D at 0x146c31908>]}"
      ]
     },
     "execution_count": 90,
     "metadata": {},
     "output_type": "execute_result"
    },
    {
     "data": {
      "image/png": "[encoded data removed]",
      "text/plain": [
       "<Figure size 432x288 with 1 Axes>"
      ]
     },
     "metadata": {
      "needs_background": "light"
     },
     "output_type": "display_data"
    }
   ],
   "source": [
    "plt.boxplot(filtered_accidents['Number_of_Vehicles'],showmeans=True)"
   ]
  },
  {
   "cell_type": "markdown",
   "metadata": {},
   "source": [
    "En este boxplot, tras haber filtrado el numero de vehiculos involucrados en el accidente, podemos observar que la media se encuentra entre 1 y 2, con la mediana en 2.00"
   ]
  },
  {
   "cell_type": "markdown",
   "metadata": {},
   "source": [
    "# Step 4:  DataFrame Final"
   ]
  },
  {
   "cell_type": "code",
   "execution_count": 67,
   "metadata": {},
   "outputs": [
    {
     "data": {
      "text/html": [
       "<div>\n",
       "<style scoped>\n",
       "    .dataframe tbody tr th:only-of-type {\n",
       "        vertical-align: middle;\n",
       "    }\n",
       "\n",
       "    .dataframe tbody tr th {\n",
       "        vertical-align: top;\n",
       "    }\n",
       "\n",
       "    .dataframe thead th {\n",
       "        text-align: right;\n",
       "    }\n",
       "</style>\n",
       "<table border=\"1\" class=\"dataframe\">\n",
       "  <thead>\n",
       "    <tr style=\"text-align: right;\">\n",
       "      <th></th>\n",
       "      <th>Accident_Index</th>\n",
       "      <th>Number_of_Casualties</th>\n",
       "      <th>Number_of_Vehicles</th>\n",
       "      <th>Speed_limit</th>\n",
       "      <th>Year</th>\n",
       "      <th>Age_of_Vehicle</th>\n",
       "      <th>Engine_Capacity_.CC.</th>\n",
       "    </tr>\n",
       "  </thead>\n",
       "  <tbody>\n",
       "    <tr>\n",
       "      <th>0</th>\n",
       "      <td>200501BS00002</td>\n",
       "      <td>1</td>\n",
       "      <td>1</td>\n",
       "      <td>30.0</td>\n",
       "      <td>2005</td>\n",
       "      <td>3.0</td>\n",
       "      <td>8268.0</td>\n",
       "    </tr>\n",
       "    <tr>\n",
       "      <th>1</th>\n",
       "      <td>200501BS00003</td>\n",
       "      <td>1</td>\n",
       "      <td>2</td>\n",
       "      <td>30.0</td>\n",
       "      <td>2005</td>\n",
       "      <td>5.0</td>\n",
       "      <td>8300.0</td>\n",
       "    </tr>\n",
       "    <tr>\n",
       "      <th>2</th>\n",
       "      <td>200501BS00004</td>\n",
       "      <td>1</td>\n",
       "      <td>1</td>\n",
       "      <td>30.0</td>\n",
       "      <td>2005</td>\n",
       "      <td>4.0</td>\n",
       "      <td>1769.0</td>\n",
       "    </tr>\n",
       "    <tr>\n",
       "      <th>3</th>\n",
       "      <td>200501BS00005</td>\n",
       "      <td>1</td>\n",
       "      <td>1</td>\n",
       "      <td>30.0</td>\n",
       "      <td>2005</td>\n",
       "      <td>10.0</td>\n",
       "      <td>85.0</td>\n",
       "    </tr>\n",
       "    <tr>\n",
       "      <th>4</th>\n",
       "      <td>200501BS00006</td>\n",
       "      <td>1</td>\n",
       "      <td>2</td>\n",
       "      <td>30.0</td>\n",
       "      <td>2005</td>\n",
       "      <td>1.0</td>\n",
       "      <td>2976.0</td>\n",
       "    </tr>\n",
       "    <tr>\n",
       "      <th>5</th>\n",
       "      <td>200501BS00006</td>\n",
       "      <td>1</td>\n",
       "      <td>2</td>\n",
       "      <td>30.0</td>\n",
       "      <td>2005</td>\n",
       "      <td>2.0</td>\n",
       "      <td>124.0</td>\n",
       "    </tr>\n",
       "    <tr>\n",
       "      <th>6</th>\n",
       "      <td>200501BS00007</td>\n",
       "      <td>1</td>\n",
       "      <td>2</td>\n",
       "      <td>30.0</td>\n",
       "      <td>2005</td>\n",
       "      <td>NaN</td>\n",
       "      <td>NaN</td>\n",
       "    </tr>\n",
       "    <tr>\n",
       "      <th>7</th>\n",
       "      <td>200501BS00007</td>\n",
       "      <td>1</td>\n",
       "      <td>2</td>\n",
       "      <td>30.0</td>\n",
       "      <td>2005</td>\n",
       "      <td>4.0</td>\n",
       "      <td>4266.0</td>\n",
       "    </tr>\n",
       "    <tr>\n",
       "      <th>8</th>\n",
       "      <td>200501BS00009</td>\n",
       "      <td>2</td>\n",
       "      <td>1</td>\n",
       "      <td>30.0</td>\n",
       "      <td>2005</td>\n",
       "      <td>16.0</td>\n",
       "      <td>5343.0</td>\n",
       "    </tr>\n",
       "    <tr>\n",
       "      <th>9</th>\n",
       "      <td>200501BS00012</td>\n",
       "      <td>1</td>\n",
       "      <td>1</td>\n",
       "      <td>30.0</td>\n",
       "      <td>2005</td>\n",
       "      <td>6.0</td>\n",
       "      <td>1988.0</td>\n",
       "    </tr>\n",
       "  </tbody>\n",
       "</table>\n",
       "</div>"
      ],
      "text/plain": [
       "  Accident_Index  Number_of_Casualties  Number_of_Vehicles  Speed_limit  Year  \\\n",
       "0  200501BS00002                     1                   1         30.0  2005   \n",
       "1  200501BS00003                     1                   2         30.0  2005   \n",
       "2  200501BS00004                     1                   1         30.0  2005   \n",
       "3  200501BS00005                     1                   1         30.0  2005   \n",
       "4  200501BS00006                     1                   2         30.0  2005   \n",
       "5  200501BS00006                     1                   2         30.0  2005   \n",
       "6  200501BS00007                     1                   2         30.0  2005   \n",
       "7  200501BS00007                     1                   2         30.0  2005   \n",
       "8  200501BS00009                     2                   1         30.0  2005   \n",
       "9  200501BS00012                     1                   1         30.0  2005   \n",
       "\n",
       "   Age_of_Vehicle  Engine_Capacity_.CC.  \n",
       "0             3.0                8268.0  \n",
       "1             5.0                8300.0  \n",
       "2             4.0                1769.0  \n",
       "3            10.0                  85.0  \n",
       "4             1.0                2976.0  \n",
       "5             2.0                 124.0  \n",
       "6             NaN                   NaN  \n",
       "7             4.0                4266.0  \n",
       "8            16.0                5343.0  \n",
       "9             6.0                1988.0  "
      ]
     },
     "execution_count": 67,
     "metadata": {},
     "output_type": "execute_result"
    }
   ],
   "source": [
    "final_df= pd.merge(filteredDataframe,vehicles, on='Accident_Index')\n",
    "final_df.head(10)"
   ]
  },
  {
   "cell_type": "code",
   "execution_count": 60,
   "metadata": {},
   "outputs": [
    {
     "name": "stdout",
     "output_type": "stream",
     "text": [
      "<class 'pandas.core.frame.DataFrame'>\n",
      "Int64Index: 1937756 entries, 0 to 1937755\n",
      "Data columns (total 7 columns):\n",
      "Accident_Index          object\n",
      "Number_of_Casualties    int64\n",
      "Number_of_Vehicles      int64\n",
      "Speed_limit             float64\n",
      "Year                    int64\n",
      "Age_of_Vehicle          float64\n",
      "Engine_Capacity_.CC.    float64\n",
      "dtypes: float64(3), int64(3), object(1)\n",
      "memory usage: 118.3+ MB\n"
     ]
    }
   ],
   "source": [
    "final_df.info()"
   ]
  },
  {
   "cell_type": "code",
   "execution_count": 73,
   "metadata": {},
   "outputs": [
    {
     "data": {
      "text/plain": [
       "Speed_limit                 65\n",
       "Age_of_Vehicle          318937\n",
       "Engine_Capacity_.CC.    237714\n",
       "dtype: int64"
      ]
     },
     "execution_count": 73,
     "metadata": {},
     "output_type": "execute_result"
    }
   ],
   "source": [
    "null_cols = result.isnull().sum()\n",
    "null_cols[null_cols > 0]"
   ]
  },
  {
   "cell_type": "code",
   "execution_count": 48,
   "metadata": {},
   "outputs": [
    {
     "data": {
      "text/html": [
       "<div>\n",
       "<style scoped>\n",
       "    .dataframe tbody tr th:only-of-type {\n",
       "        vertical-align: middle;\n",
       "    }\n",
       "\n",
       "    .dataframe tbody tr th {\n",
       "        vertical-align: top;\n",
       "    }\n",
       "\n",
       "    .dataframe thead th {\n",
       "        text-align: right;\n",
       "    }\n",
       "</style>\n",
       "<table border=\"1\" class=\"dataframe\">\n",
       "  <thead>\n",
       "    <tr style=\"text-align: right;\">\n",
       "      <th></th>\n",
       "      <th>Accident_Index</th>\n",
       "      <th>Number_of_Casualties</th>\n",
       "      <th>Number_of_Vehicles</th>\n",
       "      <th>Speed_limit</th>\n",
       "      <th>Year</th>\n",
       "      <th>Age_of_Vehicle</th>\n",
       "      <th>Engine_Capacity_.CC.</th>\n",
       "    </tr>\n",
       "  </thead>\n",
       "  <tbody>\n",
       "    <tr>\n",
       "      <th>1</th>\n",
       "      <td>200501BS00003</td>\n",
       "      <td>1</td>\n",
       "      <td>2</td>\n",
       "      <td>30.0</td>\n",
       "      <td>2005</td>\n",
       "      <td>5.0</td>\n",
       "      <td>8300.0</td>\n",
       "    </tr>\n",
       "    <tr>\n",
       "      <th>2</th>\n",
       "      <td>200501BS00004</td>\n",
       "      <td>1</td>\n",
       "      <td>1</td>\n",
       "      <td>30.0</td>\n",
       "      <td>2005</td>\n",
       "      <td>4.0</td>\n",
       "      <td>1769.0</td>\n",
       "    </tr>\n",
       "    <tr>\n",
       "      <th>3</th>\n",
       "      <td>200501BS00005</td>\n",
       "      <td>1</td>\n",
       "      <td>1</td>\n",
       "      <td>30.0</td>\n",
       "      <td>2005</td>\n",
       "      <td>10.0</td>\n",
       "      <td>85.0</td>\n",
       "    </tr>\n",
       "    <tr>\n",
       "      <th>4</th>\n",
       "      <td>200501BS00006</td>\n",
       "      <td>1</td>\n",
       "      <td>2</td>\n",
       "      <td>30.0</td>\n",
       "      <td>2005</td>\n",
       "      <td>1.0</td>\n",
       "      <td>2976.0</td>\n",
       "    </tr>\n",
       "    <tr>\n",
       "      <th>5</th>\n",
       "      <td>200501BS00006</td>\n",
       "      <td>1</td>\n",
       "      <td>2</td>\n",
       "      <td>30.0</td>\n",
       "      <td>2005</td>\n",
       "      <td>2.0</td>\n",
       "      <td>124.0</td>\n",
       "    </tr>\n",
       "  </tbody>\n",
       "</table>\n",
       "</div>"
      ],
      "text/plain": [
       "  Accident_Index  Number_of_Casualties  Number_of_Vehicles  Speed_limit  Year  \\\n",
       "1  200501BS00003                     1                   2         30.0  2005   \n",
       "2  200501BS00004                     1                   1         30.0  2005   \n",
       "3  200501BS00005                     1                   1         30.0  2005   \n",
       "4  200501BS00006                     1                   2         30.0  2005   \n",
       "5  200501BS00006                     1                   2         30.0  2005   \n",
       "\n",
       "   Age_of_Vehicle  Engine_Capacity_.CC.  \n",
       "1             5.0                8300.0  \n",
       "2             4.0                1769.0  \n",
       "3            10.0                  85.0  \n",
       "4             1.0                2976.0  \n",
       "5             2.0                 124.0  "
      ]
     },
     "execution_count": 48,
     "metadata": {},
     "output_type": "execute_result"
    }
   ],
   "source": [
    "result.drop(result.index[0], inplace=True)\n",
    "result.head()"
   ]
  },
  {
   "cell_type": "code",
   "execution_count": 21,
   "metadata": {},
   "outputs": [
    {
     "data": {
      "text/plain": [
       "Age_of_Vehicle          2275422\n",
       "Engine_Capacity_.CC.    2183134\n",
       "Number_of_Casualties    2177205\n",
       "Number_of_Vehicles      2177205\n",
       "Speed_limit             2177242\n",
       "Year                    2177205\n",
       "dtype: int64"
      ]
     },
     "execution_count": 21,
     "metadata": {},
     "output_type": "execute_result"
    }
   ],
   "source": [
    "null_cols = result.isnull().sum()\n",
    "null_cols[null_cols > 0]"
   ]
  },
  {
   "cell_type": "markdown",
   "metadata": {},
   "source": [
    "# Step 5: scatter distribution"
   ]
  },
  {
   "cell_type": "code",
   "execution_count": 77,
   "metadata": {},
   "outputs": [
    {
     "data": {
      "text/plain": [
       "<seaborn.axisgrid.JointGrid at 0x143d1eb00>"
      ]
     },
     "execution_count": 77,
     "metadata": {},
     "output_type": "execute_result"
    },
    {
     "data": {
      "image/png": "[encoded data removed]",
      "text/plain": [
       "<Figure size 432x432 with 3 Axes>"
      ]
     },
     "metadata": {
      "needs_background": "light"
     },
     "output_type": "display_data"
    }
   ],
   "source": [
    "sns.jointplot(x=\"Number_of_Casualties\", y=\"Number_of_Vehicles\", data=result)"
   ]
  },
  {
   "cell_type": "markdown",
   "metadata": {},
   "source": [
    "# Step 6: Combined scatterplot "
   ]
  },
  {
   "cell_type": "code",
   "execution_count": 75,
   "metadata": {},
   "outputs": [
    {
     "name": "stdout",
     "output_type": "stream",
     "text": [
      "True\n"
     ]
    },
    {
     "data": {
      "image/png": "[encoded data removed]",
      "text/plain": [
       "<Figure size 432x288 with 1 Axes>"
      ]
     },
     "metadata": {
      "needs_background": "light"
     },
     "output_type": "display_data"
    }
   ],
   "source": [
    "ax1 = result.plot(kind='scatter', x='Number_of_Casualties', y='Number_of_Vehicles', color='b',label='causalities 1')    \n",
    "ax2 = result.plot(kind='scatter', x='Number_of_Casualties', y='Number_of_Vehicles', color='g', label= 'causalities 2',ax=ax1)    \n",
    "\n",
    "print(ax1 == ax2)"
   ]
  },
  {
   "cell_type": "code",
   "execution_count": 87,
   "metadata": {},
   "outputs": [],
   "source": [
    "n_casualties = result[(result['Number_of_Casualties'] <5)]"
   ]
  },
  {
   "cell_type": "code",
   "execution_count": 88,
   "metadata": {},
   "outputs": [
    {
     "data": {
      "text/plain": [
       "<matplotlib.axes._subplots.AxesSubplot at 0x14770c240>"
      ]
     },
     "execution_count": 88,
     "metadata": {},
     "output_type": "execute_result"
    },
    {
     "data": {
      "image/png": "[encoded data removed]",
      "text/plain": [
       "<Figure size 432x288 with 1 Axes>"
      ]
     },
     "metadata": {
      "needs_background": "light"
     },
     "output_type": "display_data"
    }
   ],
   "source": [
    "sns.violinplot(\"Number_of_Casualties\", data=n_casualties)"
   ]
  },
  {
   "cell_type": "code",
   "execution_count": 78,
   "metadata": {},
   "outputs": [
    {
     "data": {
      "text/plain": [
       "<matplotlib.axes._subplots.AxesSubplot at 0x14787c9b0>"
      ]
     },
     "execution_count": 78,
     "metadata": {},
     "output_type": "execute_result"
    },
    {
     "data": {
      "image/png": "[encoded data removed]",
      "text/plain": [
       "<Figure size 432x288 with 1 Axes>"
      ]
     },
     "metadata": {
      "needs_background": "light"
     },
     "output_type": "display_data"
    }
   ],
   "source": [
    "result['Age_of_Vehicle'].value_counts().plot.bar()"
   ]
  },
  {
   "cell_type": "markdown",
   "metadata": {},
   "source": [
    "numero de victimas / edad del vehiculo "
   ]
  },
  {
   "cell_type": "code",
   "execution_count": 85,
   "metadata": {},
   "outputs": [],
   "source": [
    "age_v = result[(result['Age_of_Vehicle'] <30)]"
   ]
  },
  {
   "cell_type": "code",
   "execution_count": 86,
   "metadata": {},
   "outputs": [
    {
     "data": {
      "text/plain": [
       "<matplotlib.axes._subplots.AxesSubplot at 0x1476356a0>"
      ]
     },
     "execution_count": 86,
     "metadata": {},
     "output_type": "execute_result"
    },
    {
     "data": {
      "image/png": "[encoded data removed]",
      "text/plain": [
       "<Figure size 432x288 with 1 Axes>"
      ]
     },
     "metadata": {
      "needs_background": "light"
     },
     "output_type": "display_data"
    }
   ],
   "source": [
    "age_v['Age_of_Vehicle'].value_counts().plot.bar()"
   ]
  }
 ],
 "metadata": {
  "kernelspec": {
   "display_name": "Python 3",
   "language": "python",
   "name": "python3"
  },
  "language_info": {
   "codemirror_mode": {
    "name": "ipython",
    "version": 3
   },
   "file_extension": ".py",
   "mimetype": "text/x-python",
   "name": "python",
   "nbconvert_exporter": "python",
   "pygments_lexer": "ipython3",
   "version": "3.7.0"
  }
 },
 "nbformat": 4,
 "nbformat_minor": 2
}
