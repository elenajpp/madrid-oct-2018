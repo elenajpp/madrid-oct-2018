{
 "cells": [
  {
   "cell_type": "markdown",
   "metadata": {},
   "source": [
    "## BLACKJACK"
   ]
  },
  {
   "cell_type": "markdown",
   "metadata": {},
   "source": [
    "Probabilidad de que dos cartas de una baraja de 52 sumen 21\n",
    "- En una baraja contamos con 52 cartas\n",
    "- Probabilidad de que n la primera mano hagamos BJ \n",
    "- Valor de las cartas\n",
    "     - As = 1 / 11\n",
    "     - 2-10 = 2-10\n",
    "     - J,Q,K = 10\n",
    "- Probabilidad de obtener una convinancion para alcanzar BJ en la primera mano \n",
    "    - As + J , Q , K\n",
    "    - As + 10\n"
   ]
  },
  {
   "cell_type": "markdown",
   "metadata": {},
   "source": [
    "#### Muestra numerica \n",
    "\n",
    "Probabilidad de sacar 1 As\n",
    " - Prob As : 4/52\n",
    " \n",
    "Probabilidad de convinacion de sacar dos As \n",
    " - 52/ (52-2)!*2!\n",
    "\n",
    "Probabilidad de sacar JQK: Teniendo en cuenta que existen 4 palos de cada 4*3= 12 y le sumamos los 4 As con los que cuenta la baraja con los que se llega alcanzar el BJ \n",
    " - 16 / [52/ (52-2)!*2!]\n"
   ]
  },
  {
   "cell_type": "code",
   "execution_count": 26,
   "metadata": {},
   "outputs": [],
   "source": [
    "from scipy.misc import comb"
   ]
  },
  {
   "cell_type": "code",
   "execution_count": 27,
   "metadata": {},
   "outputs": [
    {
     "name": "stderr",
     "output_type": "stream",
     "text": [
      "/usr/local/Cellar/ipython/7.0.1/libexec/vendor/lib/python3.7/site-packages/ipykernel_launcher.py:1: DeprecationWarning: `comb` is deprecated!\n",
      "Importing `comb` from scipy.misc is deprecated in scipy 1.0.0. Use `scipy.special.comb` instead.\n",
      "  \"\"\"Entry point for launching an IPython kernel.\n"
     ]
    },
    {
     "data": {
      "text/plain": [
       "1326.0"
      ]
     },
     "execution_count": 27,
     "metadata": {},
     "output_type": "execute_result"
    }
   ],
   "source": [
    "combination = comb(52, 2)\n",
    "#### probabilidad de la convinacion de sacar dos Ases\n",
    "combination"
   ]
  },
  {
   "cell_type": "code",
   "execution_count": 28,
   "metadata": {},
   "outputs": [
    {
     "data": {
      "text/plain": [
       "0.012066365007541479"
      ]
     },
     "execution_count": 28,
     "metadata": {},
     "output_type": "execute_result"
    }
   ],
   "source": [
    "p_bj= 16/combination \n",
    "p_bj"
   ]
  },
  {
   "cell_type": "markdown",
   "metadata": {},
   "source": [
    "Esta es la probabilidad de tener Blackjack con cualquiera de las posibles cartas, tanto Ases como sotas, caballos o reyes \n",
    "\n",
    "Para obtener la probabilidad de alcanzar blackjack unicamente con Ases es decir, que en la primera mano te toq\n",
    "que un As y en la segunda tb"
   ]
  },
  {
   "cell_type": "code",
   "execution_count": 29,
   "metadata": {},
   "outputs": [
    {
     "data": {
      "text/plain": [
       "0.0030165912518853697"
      ]
     },
     "execution_count": 29,
     "metadata": {},
     "output_type": "execute_result"
    }
   ],
   "source": [
    "p_as = 4/combination \n",
    "p_as"
   ]
  },
  {
   "cell_type": "markdown",
   "metadata": {},
   "source": [
    "## ODDS\n",
    "Posibilidad de que una condición de que ocurra se presente en un grupo de población frente al riesgo de que ocurra en otro.\n",
    "     - p/1-p"
   ]
  },
  {
   "cell_type": "code",
   "execution_count": 30,
   "metadata": {},
   "outputs": [
    {
     "data": {
      "text/plain": [
       "0.012213740458015267"
      ]
     },
     "execution_count": 30,
     "metadata": {},
     "output_type": "execute_result"
    }
   ],
   "source": [
    "odds_bj = (p_bj/(1-p_bj))\n",
    "odds_bj"
   ]
  },
  {
   "cell_type": "code",
   "execution_count": 31,
   "metadata": {},
   "outputs": [
    {
     "data": {
      "text/plain": [
       "0.0030257186081694403"
      ]
     },
     "execution_count": 31,
     "metadata": {},
     "output_type": "execute_result"
    }
   ],
   "source": [
    "odds_as = (p_as/(1-p_as))\n",
    "odds_as"
   ]
  },
  {
   "cell_type": "code",
   "execution_count": null,
   "metadata": {},
   "outputs": [],
   "source": []
  }
 ],
 "metadata": {
  "kernelspec": {
   "display_name": "Python 3",
   "language": "python",
   "name": "python3"
  },
  "language_info": {
   "codemirror_mode": {
    "name": "ipython",
    "version": 3
   },
   "file_extension": ".py",
   "mimetype": "text/x-python",
   "name": "python",
   "nbconvert_exporter": "python",
   "pygments_lexer": "ipython3",
   "version": "3.7.0"
  }
 },
 "nbformat": 4,
 "nbformat_minor": 2
}
