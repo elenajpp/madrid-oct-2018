{
 "cells": [
  {
   "cell_type": "markdown",
   "metadata": {},
   "source": [
    "# Before your start:\n",
    "- Read the README.md file\n",
    "- Comment as much as you can and use the resources (README.md file)\n",
    "- Happy learning!"
   ]
  },
  {
   "cell_type": "code",
   "execution_count": 25,
   "metadata": {},
   "outputs": [],
   "source": [
    "# Import your libraries\n",
    "import pandas as pd\n",
    "import numpy as np\n",
    "import matplotlib.pyplot as plt\n",
    "import scipy.stats as norm\n"
   ]
  },
  {
   "cell_type": "markdown",
   "metadata": {},
   "source": [
    "# Challenge 1 - Generate and Plot Normal Distributions"
   ]
  },
  {
   "cell_type": "markdown",
   "metadata": {},
   "source": [
    "#### Step 1: Generate samples and test normal distribution\n",
    "\n",
    "Use mean=50, standard_deviation=5, and sample_size=[10, 50, 500, 5000] to generate 4 random samples that are normally distributed. Test your normal distributions with [`scipy.stats.normaltest`](https://docs.scipy.org/doc/scipy/reference/generated/scipy.stats.normaltest.html).\n",
    "\n",
    "\n",
    "*Hint: Read the documentation for `scipy.stats.normaltest`. The function does not simply return Yes or No for whether your data is normal distribution. It returns the likelihood.*"
   ]
  },
  {
   "cell_type": "code",
   "execution_count": 43,
   "metadata": {},
   "outputs": [
    {
     "name": "stdout",
     "output_type": "stream",
     "text": [
      "[52.15214605 41.31669383 59.63368457 50.35504162 52.17584576 44.647231\n",
      " 60.57665076 50.01990736 46.60543991 55.82285977]\n",
      "p = 0.932702\n",
      "The sample is not normal distribution\n"
     ]
    },
    {
     "data": {
      "text/plain": [
       "(array([1., 1., 1., 0., 2., 2., 0., 1., 0., 2.]),\n",
       " array([41.31669383, 43.24268952, 45.16868522, 47.09468091, 49.0206766 ,\n",
       "        50.9466723 , 52.87266799, 54.79866368, 56.72465938, 58.65065507,\n",
       "        60.57665076]),\n",
       " <a list of 10 Patch objects>)"
      ]
     },
     "execution_count": 43,
     "metadata": {},
     "output_type": "execute_result"
    },
    {
     "data": {
      "image/png": "[encoded data removed]",
      "text/plain": [
       "<Figure size 432x288 with 1 Axes>"
      ]
     },
     "metadata": {
      "needs_background": "light"
     },
     "output_type": "display_data"
    }
   ],
   "source": [
    "mu, sigma = 50, 5 # mean and standard deviation\n",
    "sample10 = np.random.normal(mu, sigma, 10)\n",
    "print(sample10)\n",
    "norm.stats.normaltest(sample10)\n",
    "statistics, pvalue = norm.stats.normaltest(sample10)\n",
    "alpha = 0.05\n",
    "print(\"p = {:g}\".format(pvalue))\n",
    "\n",
    "if pvalue < alpha:\n",
    "    print(\"The sample is normal distribution\")\n",
    "else:\n",
    "    print(\"The sample is not normal distribution\")\n",
    "    \n",
    "plt.hist (sample10)"
   ]
  },
  {
   "cell_type": "code",
   "execution_count": 44,
   "metadata": {},
   "outputs": [
    {
     "name": "stdout",
     "output_type": "stream",
     "text": [
      "p = 0.0551202\n",
      "The sample is not normal distribution\n"
     ]
    },
    {
     "data": {
      "text/plain": [
       "(array([ 1.,  1.,  0.,  3.,  9., 12., 10.,  9.,  3.,  2.]),\n",
       " array([34.97872774, 37.45303207, 39.92733639, 42.40164072, 44.87594504,\n",
       "        47.35024937, 49.82455369, 52.29885802, 54.77316234, 57.24746667,\n",
       "        59.72177099]),\n",
       " <a list of 10 Patch objects>)"
      ]
     },
     "execution_count": 44,
     "metadata": {},
     "output_type": "execute_result"
    },
    {
     "data": {
      "image/png": "[encoded data removed]",
      "text/plain": [
       "<Figure size 432x288 with 1 Axes>"
      ]
     },
     "metadata": {
      "needs_background": "light"
     },
     "output_type": "display_data"
    }
   ],
   "source": [
    "mu, sigma = 50, 5 # mean and standard deviation\n",
    "sample50 = np.random.normal(mu, sigma, 50)\n",
    "norm.stats.normaltest(sample50)\n",
    "statistics, pvalue = norm.stats.normaltest(sample50)\n",
    "alpha = 0.05\n",
    "print(\"p = {:g}\".format(pvalue))\n",
    "\n",
    "if pvalue < alpha:\n",
    "    print(\"The sample is normal distribution\")\n",
    "else:\n",
    "    print(\"The sample is not normal distribution\")\n",
    "    \n",
    "plt.hist (sample50)"
   ]
  },
  {
   "cell_type": "code",
   "execution_count": 45,
   "metadata": {},
   "outputs": [
    {
     "name": "stdout",
     "output_type": "stream",
     "text": [
      "p = 0.746252\n",
      "The sample is not normal distribution\n"
     ]
    },
    {
     "data": {
      "text/plain": [
       "(array([  2.,  15.,  24.,  75.,  85., 116.,  93.,  53.,  27.,  10.]),\n",
       " array([34.15756683, 37.09174056, 40.02591428, 42.960088  , 45.89426172,\n",
       "        48.82843545, 51.76260917, 54.69678289, 57.63095661, 60.56513033,\n",
       "        63.49930406]),\n",
       " <a list of 10 Patch objects>)"
      ]
     },
     "execution_count": 45,
     "metadata": {},
     "output_type": "execute_result"
    },
    {
     "data": {
      "image/png": "[encoded data removed]",
      "text/plain": [
       "<Figure size 432x288 with 1 Axes>"
      ]
     },
     "metadata": {
      "needs_background": "light"
     },
     "output_type": "display_data"
    }
   ],
   "source": [
    "mu, sigma = 50, 5 # mean and standard deviation\n",
    "sample500 = np.random.normal(mu, sigma, 500)\n",
    "norm.stats.normaltest(sample500)\n",
    "statistics, pvalue = norm.stats.normaltest(sample500)\n",
    "alpha = 0.05\n",
    "print(\"p = {:g}\".format(pvalue))\n",
    "\n",
    "if pvalue < alpha:\n",
    "    print(\"The sample is normal distribution\")\n",
    "else:\n",
    "    print(\"The sample is not normal distribution\")\n",
    "    \n",
    "plt.hist (sample500)"
   ]
  },
  {
   "cell_type": "code",
   "execution_count": 46,
   "metadata": {},
   "outputs": [
    {
     "name": "stdout",
     "output_type": "stream",
     "text": [
      "p = 0.394661\n",
      "The sample is not normal distribution\n"
     ]
    },
    {
     "data": {
      "text/plain": [
       "(array([   3.,   34.,  180.,  642., 1271., 1467.,  983.,  330.,   86.,\n",
       "           4.]),\n",
       " array([29.91795099, 33.76499979, 37.6120486 , 41.4590974 , 45.30614621,\n",
       "        49.15319501, 53.00024382, 56.84729262, 60.69434143, 64.54139023,\n",
       "        68.38843904]),\n",
       " <a list of 10 Patch objects>)"
      ]
     },
     "execution_count": 46,
     "metadata": {},
     "output_type": "execute_result"
    },
    {
     "data": {
      "image/png": "[encoded data removed]",
      "text/plain": [
       "<Figure size 432x288 with 1 Axes>"
      ]
     },
     "metadata": {
      "needs_background": "light"
     },
     "output_type": "display_data"
    }
   ],
   "source": [
    "mu, sigma = 50, 5 # mean and standard deviation\n",
    "sample5000 = np.random.normal(mu, sigma, 5000)\n",
    "\n",
    "norm.stats.normaltest(sample5000)\n",
    "statistics, pvalue = norm.stats.normaltest(sample5000)\n",
    "alpha = 0.05\n",
    "print(\"p = {:g}\".format(pvalue))\n",
    "\n",
    "if pvalue < alpha:\n",
    "    print(\"The sample is normal distribution\")\n",
    "else:\n",
    "    print(\"The sample is not normal distribution\")\n",
    "    \n",
    "plt.hist (sample5000)"
   ]
  },
  {
   "cell_type": "markdown",
   "metadata": {},
   "source": [
    "##Explicacion: \n",
    "\n",
    "Defino la media y la desviacion tipica \n",
    "  - mu, sigma = 50, 5\n",
    "y creo mi sample con el size que quiero\n",
    "  - sample = np.random.normal(mu, sigma, 10)\n",
    "Defino mi pvalue como norm.stats.normaltest del sample que he creado (arriba)\n",
    "Establezco un alpha que va a ser el rango de error que tienes que en este caso es 0.05 es de cir estas a un 95% seguro\n",
    "\n",
    "    ##### pvalue < alpha \n",
    "\n",
    "si esto se cumple significa que la distribucion es normal\n",
    "si no, no es mormal "
   ]
  },
  {
   "cell_type": "markdown",
   "metadata": {},
   "source": [
    "#### Interpret the normaltest results and make your observations."
   ]
  },
  {
   "cell_type": "markdown",
   "metadata": {},
   "source": [
    "#### Explain the test results here\n",
    "Tras haber hecho una distribucion con diferentes tamaños de muestra he podido obsevar que a medida que la muesta es mayor, la distribucion se normaliza mas. Es decir, mi muesta de 10 no resulta una distribucion que se acerque mucho a lo normal sin embargo en la muestra de 5000 a pesar de no ser estrictamente simetrica se acerca mas. "
   ]
  },
  {
   "cell_type": "markdown",
   "metadata": {},
   "source": [
    "#### Step 2: Plot normal distributions\n",
    "\n",
    "Use matplotlib subplots to plot a histogram of each sample. \n",
    "\n",
    "*Hints:*\n",
    "- Use subplots to compare your figures side by side.\n",
    "\n",
    "- Your output should look like below:\n",
    "\n",
    "![normal distributions with different sample sizes](ch-1.png)"
   ]
  },
  {
   "cell_type": "code",
   "execution_count": 59,
   "metadata": {},
   "outputs": [
    {
     "data": {
      "image/png": "[encoded data removed]",
      "text/plain": [
       "<Figure size 1152x432 with 4 Axes>"
      ]
     },
     "metadata": {
      "needs_background": "light"
     },
     "output_type": "display_data"
    }
   ],
   "source": [
    "# Your code here\n",
    "fig,axes= plt.subplots(1,4,figsize=(16,6))\n",
    "sns.plot "
   ]
  },
  {
   "cell_type": "markdown",
   "metadata": {},
   "source": [
    "#### Compare the distributions above. What do you observe? Explain with the Central Limit Theorem."
   ]
  },
  {
   "cell_type": "code",
   "execution_count": null,
   "metadata": {},
   "outputs": [],
   "source": [
    "# Your comment and explanation here\n"
   ]
  },
  {
   "cell_type": "markdown",
   "metadata": {},
   "source": [
    "# Challenge 2 - Plot Probability Mass Function (PMF)"
   ]
  },
  {
   "cell_type": "markdown",
   "metadata": {},
   "source": [
    "#### Background knowledge\n",
    "\n",
    "[PMF](https://en.wikipedia.org/wiki/Probability_mass_function) shows the probability distribution of a **discrete random variable**. A [discrete random variable](https://en.wikipedia.org/wiki/Random_variable#Discrete_random_variable) has random numeric values that are not continuous. For example, the number of people in a household can only be integers but not floats. Therefore the number of people in a household is a discrete variable.\n",
    "\n",
    "#### Question: We assume that the probability of clicking an Ad in a Youtube video is 0.15. We have a sample of 5 people who wathched the video and we want to plot the PMF for a binomial distribution.\n",
    "\n",
    "*Hint: use binom from `scipy.stats.binom`. Your output should look like below:*\n",
    "\n",
    "![binom 10](ch-2.png)"
   ]
  },
  {
   "cell_type": "code",
   "execution_count": null,
   "metadata": {},
   "outputs": [],
   "source": [
    "# Your code here\n"
   ]
  },
  {
   "cell_type": "markdown",
   "metadata": {},
   "source": [
    "#### Explain what you observe from the plot above"
   ]
  },
  {
   "cell_type": "code",
   "execution_count": null,
   "metadata": {},
   "outputs": [],
   "source": [
    "# Your comment here"
   ]
  },
  {
   "cell_type": "markdown",
   "metadata": {},
   "source": [
    "#### Now plot PMP with 50, 500, and 5000 visitors."
   ]
  },
  {
   "cell_type": "code",
   "execution_count": null,
   "metadata": {},
   "outputs": [],
   "source": [
    "# Your code here"
   ]
  },
  {
   "cell_type": "markdown",
   "metadata": {},
   "source": [
    "#### What did you notice from the distribution plots? Comment your findings."
   ]
  },
  {
   "cell_type": "code",
   "execution_count": null,
   "metadata": {},
   "outputs": [],
   "source": [
    "# Your comment here\n"
   ]
  },
  {
   "cell_type": "markdown",
   "metadata": {},
   "source": [
    "# Challenge 3"
   ]
  },
  {
   "cell_type": "markdown",
   "metadata": {},
   "source": [
    "#### Reaserch the Poisson distribution. Write about your own understanding of the Poisson distribution."
   ]
  },
  {
   "cell_type": "code",
   "execution_count": null,
   "metadata": {},
   "outputs": [],
   "source": [
    "# Your comment here"
   ]
  },
  {
   "cell_type": "markdown",
   "metadata": {},
   "source": [
    "#### A website has an average of 300 visits per day. What is the probability of getting 320 visitors in a day?\n",
    "\n",
    "*Hint: use `scipy.stats.poisson`*"
   ]
  },
  {
   "cell_type": "code",
   "execution_count": null,
   "metadata": {},
   "outputs": [],
   "source": [
    "# Your code here"
   ]
  },
  {
   "cell_type": "markdown",
   "metadata": {},
   "source": [
    "#### What is the probability of getting 60 visits?"
   ]
  },
  {
   "cell_type": "code",
   "execution_count": null,
   "metadata": {},
   "outputs": [],
   "source": [
    "# Your code here"
   ]
  },
  {
   "cell_type": "markdown",
   "metadata": {},
   "source": [
    "#### Plot the distribution of the probability for getting 0-1000 visits.\n",
    "\n",
    "*Hints:* \n",
    "\n",
    "- Create a list to store the Poisson distribution probabilities for n=0 to 1000. Then plot the probabilities.\n",
    "\n",
    "- Your plot should look like below:\n",
    "\n",
    "![poisson distribution](ch-3.png)"
   ]
  },
  {
   "cell_type": "code",
   "execution_count": null,
   "metadata": {},
   "outputs": [],
   "source": [
    "# your code here\n"
   ]
  }
 ],
 "metadata": {
  "anaconda-cloud": {},
  "kernelspec": {
   "display_name": "Python 3",
   "language": "python",
   "name": "python3"
  },
  "language_info": {
   "codemirror_mode": {
    "name": "ipython",
    "version": 3
   },
   "file_extension": ".py",
   "mimetype": "text/x-python",
   "name": "python",
   "nbconvert_exporter": "python",
   "pygments_lexer": "ipython3",
   "version": "3.7.0"
  }
 },
 "nbformat": 4,
 "nbformat_minor": 1
}
