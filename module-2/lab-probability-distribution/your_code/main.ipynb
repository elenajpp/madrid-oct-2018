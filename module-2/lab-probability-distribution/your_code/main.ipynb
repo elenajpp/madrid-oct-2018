{
 "cells": [
  {
   "cell_type": "markdown",
   "metadata": {},
   "source": [
    "# Before your start:\n",
    "- Read the README.md file\n",
    "- Comment as much as you can and use the resources (README.md file)\n",
    "- Happy learning!"
   ]
  },
  {
   "cell_type": "code",
   "execution_count": 25,
   "metadata": {},
   "outputs": [],
   "source": [
    "# Import your libraries\n",
    "import pandas as pd\n",
    "import numpy as np\n",
    "import matplotlib.pyplot as plt\n",
    "import scipy.stats as norm\n"
   ]
  },
  {
   "cell_type": "markdown",
   "metadata": {},
   "source": [
    "# Challenge 1 - Generate and Plot Normal Distributions"
   ]
  },
  {
   "cell_type": "markdown",
   "metadata": {},
   "source": [
    "#### Step 1: Generate samples and test normal distribution\n",
    "\n",
    "Use mean=50, standard_deviation=5, and sample_size=[10, 50, 500, 5000] to generate 4 random samples that are normally distributed. Test your normal distributions with [`scipy.stats.normaltest`](https://docs.scipy.org/doc/scipy/reference/generated/scipy.stats.normaltest.html).\n",
    "\n",
    "\n",
    "*Hint: Read the documentation for `scipy.stats.normaltest`. The function does not simply return Yes or No for whether your data is normal distribution. It returns the likelihood.*"
   ]
  },
  {
   "cell_type": "code",
   "execution_count": 38,
   "metadata": {},
   "outputs": [
    {
     "name": "stdout",
     "output_type": "stream",
     "text": [
      "[41.74517137 33.2082634  52.13958383 49.0081052  48.62442462 44.50277914\n",
      " 47.50268742 49.05148252 57.38593137 57.06880094]\n",
      "p = 0.366406\n",
      "The sample is not normal distribution\n"
     ]
    },
    {
     "data": {
      "text/plain": [
       "(array([1., 0., 0., 1., 1., 1., 3., 1., 0., 2.]),\n",
       " array([33.2082634 , 35.62603019, 38.04379699, 40.46156379, 42.87933059,\n",
       "        45.29709738, 47.71486418, 50.13263098, 52.55039778, 54.96816457,\n",
       "        57.38593137]),\n",
       " <a list of 10 Patch objects>)"
      ]
     },
     "execution_count": 38,
     "metadata": {},
     "output_type": "execute_result"
    },
    {
     "data": {
      "image/png": "[encoded data removed]",
      "text/plain": [
       "<Figure size 432x288 with 1 Axes>"
      ]
     },
     "metadata": {
      "needs_background": "light"
     },
     "output_type": "display_data"
    }
   ],
   "source": [
    "mu, sigma = 50, 5 # mean and standard deviation\n",
    "sample = np.random.normal(mu, sigma, 10)\n",
    "print(sample)\n",
    "norm.stats.normaltest(sample)\n",
    "statistics, pvalue = norm.stats.normaltest(sample)\n",
    "alpha = 0.05\n",
    "print(\"p = {:g}\".format(pvalue))\n",
    "\n",
    "if pvalue < alpha:\n",
    "    print(\"The sample is normal distribution\")\n",
    "else:\n",
    "    print(\"The sample is not normal distribution\")\n",
    "    \n",
    "plt.hist (sample)"
   ]
  },
  {
   "cell_type": "code",
   "execution_count": 39,
   "metadata": {},
   "outputs": [
    {
     "name": "stdout",
     "output_type": "stream",
     "text": [
      "p = 0.871797\n",
      "The sample is not normal distribution\n"
     ]
    },
    {
     "data": {
      "text/plain": [
       "(array([ 2.,  3.,  4., 10.,  6., 10.,  5.,  7.,  1.,  2.]),\n",
       " array([39.34589501, 41.50838061, 43.67086621, 45.83335181, 47.99583741,\n",
       "        50.15832301, 52.32080861, 54.48329421, 56.64577981, 58.80826541,\n",
       "        60.97075101]),\n",
       " <a list of 10 Patch objects>)"
      ]
     },
     "execution_count": 39,
     "metadata": {},
     "output_type": "execute_result"
    },
    {
     "data": {
      "image/png": "[encoded data removed]",
      "text/plain": [
       "<Figure size 432x288 with 1 Axes>"
      ]
     },
     "metadata": {
      "needs_background": "light"
     },
     "output_type": "display_data"
    }
   ],
   "source": [
    "mu, sigma = 50, 5 # mean and standard deviation\n",
    "sample = np.random.normal(mu, sigma, 50)\n",
    "norm.stats.normaltest(sample)\n",
    "statistics, pvalue = norm.stats.normaltest(sample)\n",
    "alpha = 0.05\n",
    "print(\"p = {:g}\".format(pvalue))\n",
    "\n",
    "if pvalue < alpha:\n",
    "    print(\"The sample is normal distribution\")\n",
    "else:\n",
    "    print(\"The sample is not normal distribution\")\n",
    "    \n",
    "plt.hist (sample)"
   ]
  },
  {
   "cell_type": "code",
   "execution_count": 40,
   "metadata": {},
   "outputs": [
    {
     "name": "stdout",
     "output_type": "stream",
     "text": [
      "p = 0.218741\n",
      "The sample is not normal distribution\n"
     ]
    },
    {
     "data": {
      "text/plain": [
       "(array([  1.,   4.,   9.,  49.,  99., 134., 117.,  60.,  24.,   3.]),\n",
       " array([31.12622162, 34.48174007, 37.83725852, 41.19277697, 44.54829542,\n",
       "        47.90381387, 51.25933232, 54.61485077, 57.97036922, 61.32588767,\n",
       "        64.68140612]),\n",
       " <a list of 10 Patch objects>)"
      ]
     },
     "execution_count": 40,
     "metadata": {},
     "output_type": "execute_result"
    },
    {
     "data": {
      "image/png": "[encoded data removed]",
      "text/plain": [
       "<Figure size 432x288 with 1 Axes>"
      ]
     },
     "metadata": {
      "needs_background": "light"
     },
     "output_type": "display_data"
    }
   ],
   "source": [
    "mu, sigma = 50, 5 # mean and standard deviation\n",
    "sample = np.random.normal(mu, sigma, 500)\n",
    "norm.stats.normaltest(sample)\n",
    "statistics, pvalue = norm.stats.normaltest(sample)\n",
    "alpha = 0.05\n",
    "print(\"p = {:g}\".format(pvalue))\n",
    "\n",
    "if pvalue < alpha:\n",
    "    print(\"The sample is normal distribution\")\n",
    "else:\n",
    "    print(\"The sample is not normal distribution\")\n",
    "    \n",
    "plt.hist (sample)"
   ]
  },
  {
   "cell_type": "code",
   "execution_count": 41,
   "metadata": {},
   "outputs": [
    {
     "name": "stdout",
     "output_type": "stream",
     "text": [
      "p = 0.231229\n",
      "The sample is not normal distribution\n"
     ]
    },
    {
     "data": {
      "text/plain": [
       "(array([1.000e+00, 1.600e+01, 1.340e+02, 5.790e+02, 1.307e+03, 1.600e+03,\n",
       "        9.630e+02, 3.340e+02, 5.900e+01, 7.000e+00]),\n",
       " array([28.60620212, 32.66628332, 36.72636453, 40.78644573, 44.84652694,\n",
       "        48.90660815, 52.96668935, 57.02677056, 61.08685176, 65.14693297,\n",
       "        69.20701417]),\n",
       " <a list of 10 Patch objects>)"
      ]
     },
     "execution_count": 41,
     "metadata": {},
     "output_type": "execute_result"
    },
    {
     "data": {
      "image/png": "[encoded data removed]",
      "text/plain": [
       "<Figure size 432x288 with 1 Axes>"
      ]
     },
     "metadata": {
      "needs_background": "light"
     },
     "output_type": "display_data"
    }
   ],
   "source": [
    "mu, sigma = 50, 5 # mean and standard deviation\n",
    "sample = np.random.normal(mu, sigma, 5000)\n",
    "\n",
    "norm.stats.normaltest(sample)\n",
    "statistics, pvalue = norm.stats.normaltest(sample)\n",
    "alpha = 0.05\n",
    "print(\"p = {:g}\".format(pvalue))\n",
    "\n",
    "if pvalue < alpha:\n",
    "    print(\"The sample is normal distribution\")\n",
    "else:\n",
    "    print(\"The sample is not normal distribution\")\n",
    "    \n",
    "plt.hist (sample)"
   ]
  },
  {
   "cell_type": "markdown",
   "metadata": {},
   "source": [
    "##Explicacion: \n",
    "\n",
    "Defino la media y la desviacion tipica \n",
    "  - mu, sigma = 50, 5\n",
    "y creo mi sample con el size que quiero\n",
    "  - sample = np.random.normal(mu, sigma, 10)\n",
    "Defino mi pvalue como norm.stats.normaltest del sample que he creado (arriba)\n",
    "Establezco un alpha que va a ser el rango de error que tienes que en este caso es 0.05 es de cir estas a un 95% seguro\n",
    "\n",
    "    ##### pvalue < alpha \n",
    "\n",
    "si esto se cumple significa que la distribucion es normal\n",
    "si no, no es mormal "
   ]
  },
  {
   "cell_type": "markdown",
   "metadata": {},
   "source": [
    "#### Interpret the normaltest results and make your observations."
   ]
  },
  {
   "cell_type": "markdown",
   "metadata": {},
   "source": [
    "#### Explain the test results here\n",
    "Tras haber hecho una distribucion con diferentes tamaños de muestra he podido obsevar que a medida que la muesta es mayor, la distribucion se normaliza mas. Es decir, mi muesta de 10 no resulta una distribucion que se acerque mucho a lo normal sin embargo en la muestra de 5000 a pesar de no ser estrictamente simetrica se acerca mas. "
   ]
  },
  {
   "cell_type": "markdown",
   "metadata": {},
   "source": [
    "#### Step 2: Plot normal distributions\n",
    "\n",
    "Use matplotlib subplots to plot a histogram of each sample. \n",
    "\n",
    "*Hints:*\n",
    "- Use subplots to compare your figures side by side.\n",
    "\n",
    "- Your output should look like below:\n",
    "\n",
    "![normal distributions with different sample sizes](ch-1.png)"
   ]
  },
  {
   "cell_type": "code",
   "execution_count": null,
   "metadata": {},
   "outputs": [],
   "source": [
    "# Your code here\n"
   ]
  },
  {
   "cell_type": "markdown",
   "metadata": {},
   "source": [
    "#### Compare the distributions above. What do you observe? Explain with the Central Limit Theorem."
   ]
  },
  {
   "cell_type": "code",
   "execution_count": null,
   "metadata": {},
   "outputs": [],
   "source": [
    "# Your comment and explanation here\n"
   ]
  },
  {
   "cell_type": "markdown",
   "metadata": {},
   "source": [
    "# Challenge 2 - Plot Probability Mass Function (PMF)"
   ]
  },
  {
   "cell_type": "markdown",
   "metadata": {},
   "source": [
    "#### Background knowledge\n",
    "\n",
    "[PMF](https://en.wikipedia.org/wiki/Probability_mass_function) shows the probability distribution of a **discrete random variable**. A [discrete random variable](https://en.wikipedia.org/wiki/Random_variable#Discrete_random_variable) has random numeric values that are not continuous. For example, the number of people in a household can only be integers but not floats. Therefore the number of people in a household is a discrete variable.\n",
    "\n",
    "#### Question: We assume that the probability of clicking an Ad in a Youtube video is 0.15. We have a sample of 5 people who wathched the video and we want to plot the PMF for a binomial distribution.\n",
    "\n",
    "*Hint: use binom from `scipy.stats.binom`. Your output should look like below:*\n",
    "\n",
    "![binom 10](ch-2.png)"
   ]
  },
  {
   "cell_type": "code",
   "execution_count": null,
   "metadata": {},
   "outputs": [],
   "source": [
    "# Your code here\n"
   ]
  },
  {
   "cell_type": "markdown",
   "metadata": {},
   "source": [
    "#### Explain what you observe from the plot above"
   ]
  },
  {
   "cell_type": "code",
   "execution_count": null,
   "metadata": {},
   "outputs": [],
   "source": [
    "# Your comment here"
   ]
  },
  {
   "cell_type": "markdown",
   "metadata": {},
   "source": [
    "#### Now plot PMP with 50, 500, and 5000 visitors."
   ]
  },
  {
   "cell_type": "code",
   "execution_count": null,
   "metadata": {},
   "outputs": [],
   "source": [
    "# Your code here"
   ]
  },
  {
   "cell_type": "markdown",
   "metadata": {},
   "source": [
    "#### What did you notice from the distribution plots? Comment your findings."
   ]
  },
  {
   "cell_type": "code",
   "execution_count": null,
   "metadata": {},
   "outputs": [],
   "source": [
    "# Your comment here\n"
   ]
  },
  {
   "cell_type": "markdown",
   "metadata": {},
   "source": [
    "# Challenge 3"
   ]
  },
  {
   "cell_type": "markdown",
   "metadata": {},
   "source": [
    "#### Reaserch the Poisson distribution. Write about your own understanding of the Poisson distribution."
   ]
  },
  {
   "cell_type": "code",
   "execution_count": null,
   "metadata": {},
   "outputs": [],
   "source": [
    "# Your comment here"
   ]
  },
  {
   "cell_type": "markdown",
   "metadata": {},
   "source": [
    "#### A website has an average of 300 visits per day. What is the probability of getting 320 visitors in a day?\n",
    "\n",
    "*Hint: use `scipy.stats.poisson`*"
   ]
  },
  {
   "cell_type": "code",
   "execution_count": null,
   "metadata": {},
   "outputs": [],
   "source": [
    "# Your code here"
   ]
  },
  {
   "cell_type": "markdown",
   "metadata": {},
   "source": [
    "#### What is the probability of getting 60 visits?"
   ]
  },
  {
   "cell_type": "code",
   "execution_count": null,
   "metadata": {},
   "outputs": [],
   "source": [
    "# Your code here"
   ]
  },
  {
   "cell_type": "markdown",
   "metadata": {},
   "source": [
    "#### Plot the distribution of the probability for getting 0-1000 visits.\n",
    "\n",
    "*Hints:* \n",
    "\n",
    "- Create a list to store the Poisson distribution probabilities for n=0 to 1000. Then plot the probabilities.\n",
    "\n",
    "- Your plot should look like below:\n",
    "\n",
    "![poisson distribution](ch-3.png)"
   ]
  },
  {
   "cell_type": "code",
   "execution_count": null,
   "metadata": {},
   "outputs": [],
   "source": [
    "# your code here\n"
   ]
  }
 ],
 "metadata": {
  "anaconda-cloud": {},
  "kernelspec": {
   "display_name": "Python 3",
   "language": "python",
   "name": "python3"
  },
  "language_info": {
   "codemirror_mode": {
    "name": "ipython",
    "version": 3
   },
   "file_extension": ".py",
   "mimetype": "text/x-python",
   "name": "python",
   "nbconvert_exporter": "python",
   "pygments_lexer": "ipython3",
   "version": "3.7.0"
  }
 },
 "nbformat": 4,
 "nbformat_minor": 1
}
