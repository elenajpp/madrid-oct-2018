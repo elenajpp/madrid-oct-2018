{
 "cells": [
  {
   "cell_type": "markdown",
   "metadata": {},
   "source": [
    "# Before your start:\n",
    "- Read the README.md file\n",
    "- Comment as much as you can and use the resources (README.md file)\n",
    "- Happy learning!"
   ]
  },
  {
   "cell_type": "code",
<<<<<<< HEAD
<<<<<<< HEAD
   "execution_count": 25,
=======
   "execution_count": 111,
>>>>>>> c234d3708ee39a9057df8ffbe2104aaf73a76822
=======
   "execution_count": 1,
>>>>>>> 8f16422a0a2ea4d15148d4b61aee4b33c213c0c7
   "metadata": {},
   "outputs": [],
   "source": [
    "# Import your libraries\n",
    "import pandas as pd\n",
    "import numpy as np\n",
    "import matplotlib.pyplot as plt\n",
    "import scipy.stats as norm\n"
   ]
  },
  {
   "cell_type": "markdown",
   "metadata": {},
   "source": [
    "# Challenge 1 - Generate and Plot Normal Distributions"
   ]
  },
  {
   "cell_type": "markdown",
   "metadata": {},
   "source": [
    "#### Step 1: Generate samples and test normal distribution\n",
    "\n",
    "Use mean=50, standard_deviation=5, and sample_size=[10, 50, 500, 5000] to generate 4 random samples that are normally distributed. Test your normal distributions with [`scipy.stats.normaltest`](https://docs.scipy.org/doc/scipy/reference/generated/scipy.stats.normaltest.html).\n",
    "\n",
    "\n",
    "*Hint: Read the documentation for `scipy.stats.normaltest`. The function does not simply return Yes or No for whether your data is normal distribution. It returns the likelihood.*"
   ]
  },
  {
   "cell_type": "code",
<<<<<<< HEAD
   "execution_count": 38,
   "metadata": {},
   "outputs": [
    {
     "name": "stdout",
     "output_type": "stream",
     "text": [
      "[41.74517137 33.2082634  52.13958383 49.0081052  48.62442462 44.50277914\n",
      " 47.50268742 49.05148252 57.38593137 57.06880094]\n",
      "p = 0.366406\n",
      "The sample is not normal distribution\n"
=======
   "execution_count": 112,
   "metadata": {},
   "outputs": [
    {
     "name": "stderr",
     "output_type": "stream",
     "text": [
      "/usr/local/lib/python3.7/site-packages/scipy/stats/stats.py:1394: UserWarning: kurtosistest only valid for n>=20 ... continuing anyway, n=10\n",
      "  \"anyway, n=%i\" % int(n))\n"
>>>>>>> c234d3708ee39a9057df8ffbe2104aaf73a76822
     ]
    },
    {
     "data": {
      "text/plain": [
<<<<<<< HEAD
       "(array([1., 0., 0., 1., 1., 1., 3., 1., 0., 2.]),\n",
       " array([33.2082634 , 35.62603019, 38.04379699, 40.46156379, 42.87933059,\n",
       "        45.29709738, 47.71486418, 50.13263098, 52.55039778, 54.96816457,\n",
       "        57.38593137]),\n",
       " <a list of 10 Patch objects>)"
      ]
     },
     "execution_count": 38,
     "metadata": {},
     "output_type": "execute_result"
    },
    {
     "data": {
      "image/png": "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\n",
      "text/plain": [
       "<Figure size 432x288 with 1 Axes>"
      ]
     },
     "metadata": {
      "needs_background": "light"
     },
     "output_type": "display_data"
    }
   ],
   "source": [
    "mu, sigma = 50, 5 # mean and standard deviation\n",
    "sample = np.random.normal(mu, sigma, 10)\n",
    "print(sample)\n",
    "norm.stats.normaltest(sample)\n",
    "statistics, pvalue = norm.stats.normaltest(sample)\n",
    "alpha = 0.05\n",
    "print(\"p = {:g}\".format(pvalue))\n",
    "\n",
    "if pvalue < alpha:\n",
    "    print(\"The sample is normal distribution\")\n",
    "else:\n",
    "    print(\"The sample is not normal distribution\")\n",
    "    \n",
    "plt.hist (sample)"
   ]
  },
  {
   "cell_type": "code",
   "execution_count": 39,
   "metadata": {},
   "outputs": [
    {
     "name": "stdout",
     "output_type": "stream",
     "text": [
      "p = 0.871797\n",
      "The sample is not normal distribution\n"
     ]
    },
    {
     "data": {
      "text/plain": [
       "(array([ 2.,  3.,  4., 10.,  6., 10.,  5.,  7.,  1.,  2.]),\n",
       " array([39.34589501, 41.50838061, 43.67086621, 45.83335181, 47.99583741,\n",
       "        50.15832301, 52.32080861, 54.48329421, 56.64577981, 58.80826541,\n",
       "        60.97075101]),\n",
       " <a list of 10 Patch objects>)"
      ]
     },
     "execution_count": 39,
     "metadata": {},
     "output_type": "execute_result"
    },
    {
     "data": {
      "image/png": "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\n",
      "text/plain": [
       "<Figure size 432x288 with 1 Axes>"
      ]
     },
     "metadata": {
      "needs_background": "light"
     },
     "output_type": "display_data"
    }
   ],
   "source": [
    "mu, sigma = 50, 5 # mean and standard deviation\n",
    "sample = np.random.normal(mu, sigma, 50)\n",
    "norm.stats.normaltest(sample)\n",
    "statistics, pvalue = norm.stats.normaltest(sample)\n",
    "alpha = 0.05\n",
    "print(\"p = {:g}\".format(pvalue))\n",
    "\n",
    "if pvalue < alpha:\n",
    "    print(\"The sample is normal distribution\")\n",
    "else:\n",
    "    print(\"The sample is not normal distribution\")\n",
    "    \n",
    "plt.hist (sample)"
   ]
  },
  {
   "cell_type": "code",
   "execution_count": 40,
   "metadata": {},
   "outputs": [
    {
     "name": "stdout",
     "output_type": "stream",
     "text": [
      "p = 0.218741\n",
      "The sample is not normal distribution\n"
     ]
    },
    {
     "data": {
      "text/plain": [
       "(array([  1.,   4.,   9.,  49.,  99., 134., 117.,  60.,  24.,   3.]),\n",
       " array([31.12622162, 34.48174007, 37.83725852, 41.19277697, 44.54829542,\n",
       "        47.90381387, 51.25933232, 54.61485077, 57.97036922, 61.32588767,\n",
       "        64.68140612]),\n",
       " <a list of 10 Patch objects>)"
      ]
     },
     "execution_count": 40,
     "metadata": {},
     "output_type": "execute_result"
    },
    {
     "data": {
      "image/png": "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\n",
      "text/plain": [
       "<Figure size 432x288 with 1 Axes>"
      ]
     },
     "metadata": {
      "needs_background": "light"
     },
     "output_type": "display_data"
    }
   ],
   "source": [
    "mu, sigma = 50, 5 # mean and standard deviation\n",
    "sample = np.random.normal(mu, sigma, 500)\n",
    "norm.stats.normaltest(sample)\n",
    "statistics, pvalue = norm.stats.normaltest(sample)\n",
    "alpha = 0.05\n",
    "print(\"p = {:g}\".format(pvalue))\n",
    "\n",
    "if pvalue < alpha:\n",
    "    print(\"The sample is normal distribution\")\n",
    "else:\n",
    "    print(\"The sample is not normal distribution\")\n",
    "    \n",
    "plt.hist (sample)"
   ]
  },
  {
   "cell_type": "code",
   "execution_count": 41,
   "metadata": {},
   "outputs": [
    {
     "name": "stdout",
     "output_type": "stream",
     "text": [
      "p = 0.231229\n",
      "The sample is not normal distribution\n"
     ]
    },
    {
     "data": {
      "text/plain": [
       "(array([1.000e+00, 1.600e+01, 1.340e+02, 5.790e+02, 1.307e+03, 1.600e+03,\n",
       "        9.630e+02, 3.340e+02, 5.900e+01, 7.000e+00]),\n",
       " array([28.60620212, 32.66628332, 36.72636453, 40.78644573, 44.84652694,\n",
       "        48.90660815, 52.96668935, 57.02677056, 61.08685176, 65.14693297,\n",
       "        69.20701417]),\n",
       " <a list of 10 Patch objects>)"
      ]
     },
     "execution_count": 41,
     "metadata": {},
     "output_type": "execute_result"
    },
    {
     "data": {
      "image/png": "iVBORw0KGgoAAAANSUhEUgAAAYAAAAD8CAYAAAB+UHOxAAAABHNCSVQICAgIfAhkiAAAAAlwSFlzAAALEgAACxIB0t1+/AAAADl0RVh0U29mdHdhcmUAbWF0cGxvdGxpYiB2ZXJzaW9uIDMuMC4xLCBodHRwOi8vbWF0cGxvdGxpYi5vcmcvDW2N/gAAE+xJREFUeJzt3X+s3fV93/Hna7jQhk4xP24Ztc2u27iJaNQk7IYQZYuSsBITophJaQRqFy9DsraRLl2qJaaVxtYKiewXTdQMyQ0OsEYQxtJiBa/UBbpo0vhxSQhgfoxbArEtwDfhR9eikpG898f5uDk1tu/1PdfnXPJ5PqSj8/2+v59zvu/zseWXv9/v+ZGqQpLUn7816QYkSZNhAEhSpwwASeqUASBJnTIAJKlTBoAkdcoAkKROGQCS1CkDQJI6tWrSDRzJqaeeWtPT05NuQ5JeU+67777vVNXUQuNWdABMT08zOzs76TYk6TUlyVOLGecpIEnqlAEgSZ0yACSpUwaAJHXKAJCkTi0YAEm2J9mf5KGD6r+a5NEku5P8+6H6ZUnmkjyW5P1D9Y2tNpdk6/K+DEnS0VrM20CvBX4XuP5AIcl7gU3AW6rq5SQ/1epnAhcBPw/8NPAnSX6uPezzwC8Ce4F7k+yoqoeX64VIko7OggFQVV9LMn1Q+Z8DV1bVy23M/lbfBNzY6t9KMgec3bbNVdUTAElubGMNAEmakKVeA/g54B8kuTvJ/0zy9lZfA+wZGre31Q5XlyRNyFI/CbwKOBk4B3g7cFOSn1mOhpJsAbYAnHHGGcvxlNIxMb311ons98krL5jIfvWjZ6lHAHuBr9TAPcAPgFOBfcC6oXFrW+1w9Vepqm1VNVNVM1NTC36VhSRpiZYaAH8IvBegXeQ9HvgOsAO4KMkJSdYDG4B7gHuBDUnWJzmewYXiHaM2L0laugVPASW5AXgPcGqSvcDlwHZge3tr6PeAzVVVwO4kNzG4uPsKcGlVfb89z8eB24DjgO1VtfsYvB5J0iIt5l1AFx9m068cZvwVwBWHqO8Edh5Vd5KkY8ZPAktSpwwASeqUASBJnTIAJKlTBoAkdcoAkKROGQCS1CkDQJI6ZQBIUqcMAEnqlAEgSZ0yACSpUwaAJHXKAJCkThkAktQpA0CSOmUASFKnFgyAJNuT7G8//3jwtl9PUklObetJ8rkkc0keSHLW0NjNSR5vt83L+zIkSUdrMUcA1wIbDy4mWQecB3x7qHw+gx+C3wBsAa5uY09m8FvC7wDOBi5PctIojUuSRrNgAFTV14DnDrHpKuBTQA3VNgHX18BdwOokpwPvB3ZV1XNV9Tywi0OEiiRpfJZ0DSDJJmBfVX3zoE1rgD1D63tb7XB1SdKErDraByR5HfAbDE7/LLskWxicPuKMM844FruQJLG0I4CfBdYD30zyJLAW+HqSvwPsA9YNjV3baoerv0pVbauqmaqamZqaWkJ7kqTFOOoAqKoHq+qnqmq6qqYZnM45q6qeAXYAH23vBjoHeLGqngZuA85LclK7+Hteq0mSJmQxbwO9AfjfwBuT7E1yyRGG7wSeAOaA3wP+BUBVPQf8NnBvu/1Wq0mSJmTBawBVdfEC26eHlgu49DDjtgPbj7I/SdIx4ieBJalTBoAkdcoAkKROGQCS1CkDQJI6ZQBIUqcMAEnq1FF/F5C0kkxvvXXSLUivWR4BSFKnDABJ6pQBIEmdMgAkqVMGgCR1ygCQpE4ZAJLUKQNAkjplAEhSpxbzk5Dbk+xP8tBQ7T8keTTJA0n+IMnqoW2XJZlL8liS9w/VN7baXJKty/9SJElHYzFHANcCGw+q7QLeXFW/APwf4DKAJGcCFwE/3x7zX5Icl+Q44PPA+cCZwMVtrCRpQhYMgKr6GvDcQbU/rqpX2updwNq2vAm4saperqpvMfhx+LPbba6qnqiq7wE3trGSpAlZjmsA/xT4H215DbBnaNveVjtc/VWSbEkym2R2fn5+GdqTJB3KSAGQ5DeBV4AvLU87UFXbqmqmqmampqaW62klSQdZ8tdBJ/knwAeBc6uqWnkfsG5o2NpW4wh1SdIELOkIIMlG4FPAh6rqpaFNO4CLkpyQZD2wAbgHuBfYkGR9kuMZXCjeMVrrkqRRLHgEkOQG4D3AqUn2ApczeNfPCcCuJAB3VdU/q6rdSW4CHmZwaujSqvp+e56PA7cBxwHbq2r3MXg9kqRFWjAAquriQ5SvOcL4K4ArDlHfCew8qu4kSceMnwSWpE4ZAJLUKQNAkjplAEhSpwwASeqUASBJnTIAJKlTBoAkdcoAkKROGQCS1CkDQJI6ZQBIUqcMAEnqlAEgSZ0yACSpUwaAJHXKAJCkTi0YAEm2J9mf5KGh2slJdiV5vN2f1OpJ8rkkc0keSHLW0GM2t/GPJ9l8bF6OJGmxFnMEcC2w8aDaVuD2qtoA3N7WAc5n8EPwG4AtwNUwCAwGvyX8DuBs4PIDoSFJmowFA6CqvgY8d1B5E3BdW74OuHCofn0N3AWsTnI68H5gV1U9V1XPA7t4dahIksZoqdcATquqp9vyM8BpbXkNsGdo3N5WO1z9VZJsSTKbZHZ+fn6J7UmSFjLyReCqKqCWoZcDz7etqmaqamZqamq5nlaSdJClBsCz7dQO7X5/q+8D1g2NW9tqh6tLkiZkqQGwAzjwTp7NwC1D9Y+2dwOdA7zYThXdBpyX5KR28fe8VpMkTciqhQYkuQF4D3Bqkr0M3s1zJXBTkkuAp4CPtOE7gQ8Ac8BLwMcAquq5JL8N3NvG/VZVHXxhWZI0Rhmcwl+ZZmZmanZ2dtJtaAWb3nrrpFvoypNXXjDpFrQISe6rqpmFxvlJYEnqlAEgSZ0yACSpUwaAJHXKAJCkThkAktQpA0CSOmUASFKnDABJ6pQBIEmdMgAkqVMGgCR1ygCQpE4ZAJLUKQNAkjplAEhSpwwASerUSAGQ5F8l2Z3koSQ3JPnxJOuT3J1kLsmXkxzfxp7Q1ufa9unleAGSpKVZcgAkWQP8S2Cmqt4MHAdcBHwGuKqq3gA8D1zSHnIJ8HyrX9XGSZImZNRTQKuAn0iyCngd8DTwPuDmtv064MK2vKmt07afmyQj7l+StERLDoCq2gf8R+DbDP7hfxG4D3ihql5pw/YCa9ryGmBPe+wrbfwpBz9vki1JZpPMzs/PL7U9SdICRjkFdBKD/9WvB34aOBHYOGpDVbWtqmaqamZqamrUp5MkHcYop4D+IfCtqpqvqv8HfAV4F7C6nRICWAvsa8v7gHUAbfvrge+OsH9J0ghGCYBvA+ckeV07l38u8DBwJ/DhNmYzcEtb3tHWadvvqKoaYf+SpBGMcg3gbgYXc78OPNieaxvwaeCTSeYYnOO/pj3kGuCUVv8ksHWEviVJI1q18JDDq6rLgcsPKj8BnH2IsX8F/NIo+5MkLR8/CSxJnTIAJKlTBoAkdcoAkKROGQCS1CkDQJI6ZQBIUqcMAEnqlAEgSZ0yACSpUwaAJHXKAJCkThkAktQpA0CSOmUASFKnDABJ6tRIAZBkdZKbkzya5JEk70xycpJdSR5v9ye1sUnyuSRzSR5IctbyvARJ0lKMegTwWeCPqupNwFuARxj81OPtVbUBuJ0f/vTj+cCGdtsCXD3iviVJI1hyACR5PfBu2m/+VtX3quoFYBNwXRt2HXBhW94EXF8DdwGrk5y+5M4lSSMZ5QhgPTAPfDHJN5J8IcmJwGlV9XQb8wxwWlteA+wZevzeVpMkTcAoAbAKOAu4uqreBvwlPzzdA0BVFVBH86RJtiSZTTI7Pz8/QnuSpCMZJQD2Anur6u62fjODQHj2wKmddr+/bd8HrBt6/NpW+xuqaltVzVTVzNTU1AjtSZKOZMkBUFXPAHuSvLGVzgUeBnYAm1ttM3BLW94BfLS9G+gc4MWhU0WSpDFbNeLjfxX4UpLjgSeAjzEIlZuSXAI8BXykjd0JfACYA15qY/UjYnrrrZNuQdJRGikAqup+YOYQm849xNgCLh1lf5Kk5eMngSWpUwaAJHXKAJCkThkAktQpA0CSOmUASFKnDABJ6pQBIEmdMgAkqVMGgCR1ygCQpE4ZAJLUKQNAkjplAEhSpwwASeqUASBJnTIAJKlTIwdAkuOSfCPJV9v6+iR3J5lL8uX2c5EkOaGtz7Xt06PuW5K0dMtxBPAJ4JGh9c8AV1XVG4DngUta/RLg+Va/qo2TJE3ISAGQZC1wAfCFth7gfcDNbch1wIVteVNbp20/t42XJE3AqEcAvwN8CvhBWz8FeKGqXmnre4E1bXkNsAegbX+xjZckTcCSAyDJB4H9VXXfMvZDki1JZpPMzs/PL+dTS5KGjHIE8C7gQ0meBG5kcOrns8DqJKvamLXAvra8D1gH0La/HvjuwU9aVduqaqaqZqampkZoT5J0JEsOgKq6rKrWVtU0cBFwR1X9MnAn8OE2bDNwS1ve0dZp2++oqlrq/iVJozkWnwP4NPDJJHMMzvFf0+rXAKe0+ieBrcdg35KkRVq18JCFVdWfAn/alp8Azj7EmL8Cfmk59idJGp2fBJakThkAktQpA0CSOmUASFKnluUisKQ+TG+9dSL7ffLKCyay3x91HgFIUqcMAEnqlAEgSZ0yACSpUwaAJHXKAJCkThkAktQpA0CSOmUASFKnDABJ6pQBIEmdMgAkqVNLDoAk65LcmeThJLuTfKLVT06yK8nj7f6kVk+SzyWZS/JAkrOW60VIko7eKEcArwC/XlVnAucAlyY5k8Fv/d5eVRuA2/nhb/+eD2xoty3A1SPsW5I0oiUHQFU9XVVfb8v/F3gEWANsAq5rw64DLmzLm4Dra+AuYHWS05fcuSRpJMtyDSDJNPA24G7gtKp6um16BjitLa8B9gw9bG+rSZImYOQASPKTwH8Hfq2q/nx4W1UVUEf5fFuSzCaZnZ+fH7U9SdJhjBQASX6MwT/+X6qqr7TyswdO7bT7/a2+D1g39PC1rfY3VNW2qpqpqpmpqalR2pMkHcEo7wIKcA3wSFX956FNO4DNbXkzcMtQ/aPt3UDnAC8OnSqSJI3ZKL8J/C7gHwMPJrm/1X4DuBK4KcklwFPAR9q2ncAHgDngJeBjI+xbkjSiJQdAVf0vIIfZfO4hxhdw6VL3J0laXn4SWJI6ZQBIUqcMAEnq1CgXgbUCTW+9ddItSHqN8AhAkjplAEhSpwwASeqUASBJnTIAJKlTBoAkdcoAkKROGQCS1CkDQJI65SeBJa14k/yE+5NXXjCxfR9rHgFIUqcMAEnqlAEgSZ0aewAk2ZjksSRzSbaOe/+SpIGxBkCS44DPA+cDZwIXJzlznD1IkgbG/S6gs4G5qnoCIMmNwCbg4TH3cUz5nfySXgvGHQBrgD1D63uBd4y5B0latEn9h24cbz9dcZ8DSLIF2NJW/yLJY2PY7anAd8awn6O1EvtaiT3ByuxrJfYEK7MvezpIPnPYTYvp6+8uZh/jDoB9wLqh9bWt9teqahuwbZxNJZmtqplx7nMxVmJfK7EnWJl9rcSeYGX2ZU+Lt5x9jftdQPcCG5KsT3I8cBGwY8w9SJIY8xFAVb2S5OPAbcBxwPaq2j3OHiRJA2O/BlBVO4Gd497vAsZ6yukorMS+VmJPsDL7Wok9wcrsy54Wb9n6SlUt13NJkl5D/CoISepUdwGQ5MeT3JPkm0l2J/l3rb4+yd3tKyq+3C5ST7qna5N8K8n97fbWcfU01NtxSb6R5KttfWLztEBfK2GunkzyYNv/bKudnGRXksfb/UkroKd/m2Tf0Fx9YMw9rU5yc5JHkzyS5J2Tnqcj9DWxuUryxqH93p/kz5P82nLOVXcBALwMvK+q3gK8FdiY5BzgM8BVVfUG4HngkhXQE8C/rqq3ttv9Y+zpgE8AjwytT3Kehh3cF0x+rgDe2/Z/4G16W4Hbq2oDcHtbn3RPMPgzPDBX474m91ngj6rqTcBbGPw5roR5OlRfMKG5qqrHDuwX+HvAS8AfsIxz1V0A1MBftNUfa7cC3gfc3OrXAReugJ4mKsla4ALgC209THCeDtfXCreJwTzBhOZrJUnyeuDdwDUAVfW9qnqBCc/TEfpaKc4F/qyqnmIZ56q7AIC/Pn1wP7Af2AX8GfBCVb3Shuxl8LUVE+upqu5um65I8kCSq5KcMM6egN8BPgX8oK2fwoTn6TB9HTDJuYJBaP9xkvvaJ9oBTquqp9vyM8BpK6AngI+3udo+5tMt64F54IvtFN4XkpzI5OfpcH3B5OZq2EXADW152eaqywCoqu+3w6q1DL6g7k0TbulVPSV5M3AZg97eDpwMfHpc/ST5ILC/qu4b1z4X4wh9TWyuhvz9qjqLwbfdXprk3cMba/CWu3Ef2R2qp6uBn2VwuvFp4D+NsZ9VwFnA1VX1NuAvOegUxoTm6XB9TXKuAGjX2T4E/LeDt406V10GwAHtEO9O4J3A6iQHPhfxqq+omEBPG6vq6XZ66GXgiwzCalzeBXwoyZPAjQxO/XyWyc/Tq/pK8vsTnisAqmpfu9/P4Fzt2cCzSU4HaPf7J91TVT3b/sPxA+D3GO9c7QX2Dh3h3szgH96JztPh+prwXB1wPvD1qnq2rS/bXHUXAEmmkqxuyz8B/CKDiz13Ah9uwzYDt0y4p0eH/pDD4DzfQ+Pqqaouq6q1VTXN4PDzjqr6ZSY4T0fo61cmOVdtvycm+dsHloHzWg87GMwTjP/v1SF7OjBXzT9ivH+vngH2JHljK53L4OvgJzZPR+prknM15GJ+ePoHlnOuqqqrG/ALwDeABxj8Yf6bVv8Z4B5gjsGh1gkroKc7gAdb7feBn5zQnL0H+Oqk52mBviY6V21evtluu4HfbPVTGLxT43HgT4CTV0BP/7XN1QMM/jE5fcxz9VZgtu3/D4GTJjlPC/Q16bk6Efgu8Pqh2rLNlZ8ElqROdXcKSJI0YABIUqcMAEnqlAEgSZ0yACSpUwaAJHXKAJCkThkAktSp/w8zgvao17Mw/wAAAABJRU5ErkJggg==\n",
      "text/plain": [
       "<Figure size 432x288 with 1 Axes>"
      ]
     },
     "metadata": {
      "needs_background": "light"
     },
     "output_type": "display_data"
    }
   ],
   "source": [
    "mu, sigma = 50, 5 # mean and standard deviation\n",
    "sample = np.random.normal(mu, sigma, 5000)\n",
    "\n",
    "norm.stats.normaltest(sample)\n",
    "statistics, pvalue = norm.stats.normaltest(sample)\n",
    "alpha = 0.05\n",
    "print(\"p = {:g}\".format(pvalue))\n",
    "\n",
    "if pvalue < alpha:\n",
    "    print(\"The sample is normal distribution\")\n",
    "else:\n",
    "    print(\"The sample is not normal distribution\")\n",
    "    \n",
    "plt.hist (sample)"
   ]
  },
  {
   "cell_type": "markdown",
   "metadata": {},
   "source": [
    "##Explicacion: \n",
    "\n",
    "Defino la media y la desviacion tipica \n",
    "  - mu, sigma = 50, 5\n",
    "y creo mi sample con el size que quiero\n",
    "  - sample = np.random.normal(mu, sigma, 10)\n",
    "Defino mi pvalue como norm.stats.normaltest del sample que he creado (arriba)\n",
    "Establezco un alpha que va a ser el rango de error que tienes que en este caso es 0.05 es de cir estas a un 95% seguro\n",
    "\n",
    "    ##### pvalue < alpha \n",
    "\n",
    "si esto se cumple significa que la distribucion es normal\n",
    "si no, no es mormal "
=======
       "0    (0.23349439272475625, 0.8898101119651654)\n",
       "1     (1.0356615846904733, 0.5958115862525835)\n",
       "2     (1.8172735178882062, 0.4030733357826316)\n",
       "3    (5.6079568200949685, 0.06056861586664984)\n",
       "4      (2.993150960224296, 0.2238955836754518)\n",
       "dtype: object"
      ]
     },
     "execution_count": 112,
     "metadata": {},
     "output_type": "execute_result"
    }
   ],
   "source": [
    "# Your code here\n",
    "mu, sigma = 50, 5\n",
    "\n",
    "sample_size = pd.Series([10, 50, 500, 5000, 50000])\n",
    "\n",
    "dists = sample_size.apply(lambda s: np.random.normal(mu, sigma, s))\n",
    "\n",
    "tests = dists.apply(lambda d: stats.normaltest(d))\n",
    "\n",
    "tests"
>>>>>>> c234d3708ee39a9057df8ffbe2104aaf73a76822
   ]
  },
  {
   "cell_type": "markdown",
   "metadata": {},
   "source": [
    "#### Interpret the normaltest results and make your observations."
   ]
  },
  {
   "cell_type": "markdown",
   "metadata": {},
   "source": [
    "#### Explain the test results here\n",
    "Tras haber hecho una distribucion con diferentes tamaños de muestra he podido obsevar que a medida que la muesta es mayor, la distribucion se normaliza mas. Es decir, mi muesta de 10 no resulta una distribucion que se acerque mucho a lo normal sin embargo en la muestra de 5000 a pesar de no ser estrictamente simetrica se acerca mas. "
   ]
  },
  {
   "cell_type": "markdown",
   "metadata": {},
   "source": [
    "#### Step 2: Plot normal distributions\n",
    "\n",
    "Use matplotlib subplots to plot a histogram of each sample. \n",
    "\n",
    "*Hints:*\n",
    "- Use subplots to compare your figures side by side.\n",
    "\n",
    "- Your output should look like below:\n",
    "\n",
    "![normal distributions with different sample sizes](ch-1.png)"
   ]
  },
  {
   "cell_type": "code",
   "execution_count": 113,
   "metadata": {},
   "outputs": [
    {
     "data": {
      "image/png": "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\n",
      "text/plain": [
       "<Figure size 1080x288 with 4 Axes>"
      ]
     },
     "metadata": {},
     "output_type": "display_data"
    }
   ],
   "source": [
    "# Your code here\n",
    "f, ax = plt.subplots(1, 4)\n",
    "\n",
    "f.set_figwidth(15)\n",
    "\n",
    "f.subplots_adjust(wspace=1)\n",
    "\n",
    "for i in range(0, 4):\n",
    "    ax[i].set_title('n=%s' % (sample_size[i]))\n",
    "    count, bins, ignored = ax[i].hist(dists[i], 20, density=True)"
   ]
  },
  {
   "cell_type": "markdown",
   "metadata": {},
   "source": [
    "#### Compare the distributions above. What do you observe? Explain with the Central Limit Theorem."
   ]
  },
  {
   "cell_type": "code",
   "execution_count": null,
   "metadata": {},
   "outputs": [],
   "source": [
    "# Your comment and explanation here\n"
   ]
  },
  {
   "cell_type": "markdown",
   "metadata": {},
   "source": [
    "# Challenge 2 - Plot Probability Mass Function (PMF)"
   ]
  },
  {
   "cell_type": "markdown",
   "metadata": {},
   "source": [
    "#### Background knowledge\n",
    "\n",
    "[PMF](https://en.wikipedia.org/wiki/Probability_mass_function) shows the probability distribution of a **discrete random variable**. A [discrete random variable](https://en.wikipedia.org/wiki/Random_variable#Discrete_random_variable) has random numeric values that are not continuous. For example, the number of people in a household can only be integers but not floats. Therefore the number of people in a household is a discrete variable.\n",
    "\n",
    "#### Question: We assume that the probability of clicking an Ad in a Youtube video is 0.15. We have a sample of 5 people who wathched the video and we want to plot the PMF for a binomial distribution.\n",
    "\n",
    "*Hint: use binom from `scipy.stats.binom`. Your output should look like below:*\n",
    "\n",
    "![binom 10](ch-2.png)"
   ]
  },
  {
   "cell_type": "code",
   "execution_count": 114,
   "metadata": {},
   "outputs": [
    {
     "data": {
      "image/png": "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\n",
      "text/plain": [
       "<Figure size 432x288 with 1 Axes>"
      ]
     },
     "metadata": {},
     "output_type": "display_data"
    }
   ],
   "source": [
    "# Your code here\n",
    "from scipy.stats import binom\n",
    "\n",
    "n, p = 5, 0.15\n",
    "\n",
    "x = range(n)\n",
    "\n",
    "dist = binom(n, p)\n",
    "\n",
    "fig, ax = plt.subplots(1, 1)\n",
    "\n",
    "plt.plot(x, dist.pmf(x))\n",
    "\n",
    "plt.show()"
   ]
  },
  {
   "cell_type": "markdown",
   "metadata": {},
   "source": [
    "#### Explain what you observe from the plot above"
   ]
  },
  {
   "cell_type": "code",
   "execution_count": null,
   "metadata": {},
   "outputs": [],
   "source": [
    "# Your comment here"
   ]
  },
  {
   "cell_type": "markdown",
   "metadata": {},
   "source": [
    "#### Now plot PMP with 50, 500, and 5000 visitors."
   ]
  },
  {
   "cell_type": "code",
   "execution_count": null,
   "metadata": {},
   "outputs": [],
   "source": [
    "# Your code here"
   ]
  },
  {
   "cell_type": "markdown",
   "metadata": {},
   "source": [
    "#### What did you notice from the distribution plots? Comment your findings."
   ]
  },
  {
   "cell_type": "code",
   "execution_count": null,
   "metadata": {},
   "outputs": [],
   "source": [
    "# Your comment here\n"
   ]
  },
  {
   "cell_type": "markdown",
   "metadata": {},
   "source": [
    "# Challenge 3"
   ]
  },
  {
   "cell_type": "markdown",
   "metadata": {},
   "source": [
    "#### Reaserch the Poisson distribution. Write about your own understanding of the Poisson distribution."
   ]
  },
  {
   "cell_type": "code",
   "execution_count": null,
   "metadata": {},
   "outputs": [],
   "source": [
    "# Your comment here"
   ]
  },
  {
   "cell_type": "markdown",
   "metadata": {},
   "source": [
    "#### A website has an average of 300 visits per day. What is the probability of getting 320 visitors in a day?\n",
    "\n",
    "*Hint: use `scipy.stats.poisson`*"
   ]
  },
  {
   "cell_type": "code",
   "execution_count": null,
   "metadata": {},
   "outputs": [],
   "source": [
    "# Your code here"
   ]
  },
  {
   "cell_type": "markdown",
   "metadata": {},
   "source": [
    "#### What is the probability of getting 60 visits?"
   ]
  },
  {
   "cell_type": "code",
   "execution_count": null,
   "metadata": {},
   "outputs": [],
   "source": [
    "# Your code here"
   ]
  },
  {
   "cell_type": "markdown",
   "metadata": {},
   "source": [
    "#### Plot the distribution of the probability for getting 0-1000 visits.\n",
    "\n",
    "*Hints:* \n",
    "\n",
    "- Create a list to store the Poisson distribution probabilities for n=0 to 1000. Then plot the probabilities.\n",
    "\n",
    "- Your plot should look like below:\n",
    "\n",
    "![poisson distribution](ch-3.png)"
   ]
  },
  {
   "cell_type": "code",
   "execution_count": 115,
   "metadata": {},
   "outputs": [
    {
     "data": {
      "text/plain": [
       "[<matplotlib.lines.Line2D at 0x11620b048>]"
      ]
     },
     "execution_count": 115,
     "metadata": {},
     "output_type": "execute_result"
    },
    {
     "data": {
      "image/png": "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\n",
      "text/plain": [
       "<Figure size 432x288 with 1 Axes>"
      ]
     },
     "metadata": {},
     "output_type": "display_data"
    }
   ],
   "source": [
    "# your code here\n",
    "from scipy.stats import poisson\n",
    "\n",
    "N = np.arange(1000)\n",
    "\n",
    "rv = poisson(300)\n",
    "\n",
    "arr = []\n",
    "\n",
    "for n in N:\n",
    "    arr.append(rv.pmf(n))\n",
    "\n",
    "plt.plot(arr)"
   ]
  },
  {
   "cell_type": "code",
   "execution_count": null,
   "metadata": {},
   "outputs": [],
   "source": []
  }
 ],
 "metadata": {
  "anaconda-cloud": {},
  "kernelspec": {
   "display_name": "Python 3",
   "language": "python",
   "name": "python3"
  },
  "language_info": {
   "codemirror_mode": {
    "name": "ipython",
    "version": 3
   },
   "file_extension": ".py",
   "mimetype": "text/x-python",
   "name": "python",
   "nbconvert_exporter": "python",
   "pygments_lexer": "ipython3",
<<<<<<< HEAD
   "version": "3.7.0"
=======
   "version": "3.6.6"
>>>>>>> 8f16422a0a2ea4d15148d4b61aee4b33c213c0c7
  }
 },
 "nbformat": 4,
 "nbformat_minor": 1
}
